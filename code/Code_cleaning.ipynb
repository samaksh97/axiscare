{
 "cells": [
  {
   "cell_type": "code",
   "execution_count": 1,
   "metadata": {},
   "outputs": [],
   "source": [
    "import numpy as np \n",
    "import pandas as pd \n",
    "import matplotlib.pyplot as plt\n",
    "import seaborn as sns  \n",
    "import os\n",
    "import warnings\n",
    "warnings.filterwarnings(\"ignore\")\n",
    "import os"
   ]
  },
  {
   "cell_type": "code",
   "execution_count": 22,
   "metadata": {},
   "outputs": [
    {
     "data": {
      "text/html": [
       "        <script type=\"text/javascript\">\n",
       "        window.PlotlyConfig = {MathJaxConfig: 'local'};\n",
       "        if (window.MathJax && window.MathJax.Hub && window.MathJax.Hub.Config) {window.MathJax.Hub.Config({SVG: {font: \"STIX-Web\"}});}\n",
       "        if (typeof require !== 'undefined') {\n",
       "        require.undef(\"plotly\");\n",
       "        requirejs.config({\n",
       "            paths: {\n",
       "                'plotly': ['https://cdn.plot.ly/plotly-2.18.0.min']\n",
       "            }\n",
       "        });\n",
       "        require(['plotly'], function(Plotly) {\n",
       "            window._Plotly = Plotly;\n",
       "        });\n",
       "        }\n",
       "        </script>\n",
       "        "
      ]
     },
     "metadata": {},
     "output_type": "display_data"
    }
   ],
   "source": [
    "import numpy as np\n",
    "import pandas as pd\n",
    "import plotly_express as px\n",
    "from plotly.offline import init_notebook_mode\n",
    "init_notebook_mode(connected=True)\n",
    "import time\n",
    "from datetime import datetime\n",
    "todays_date = datetime.fromtimestamp(time.time()).strftime(\"%Y-%m-%d\")"
   ]
  },
  {
   "cell_type": "code",
   "execution_count": 8,
   "metadata": {},
   "outputs": [
    {
     "data": {
      "text/html": [
       "<div>\n",
       "<style scoped>\n",
       "    .dataframe tbody tr th:only-of-type {\n",
       "        vertical-align: middle;\n",
       "    }\n",
       "\n",
       "    .dataframe tbody tr th {\n",
       "        vertical-align: top;\n",
       "    }\n",
       "\n",
       "    .dataframe thead th {\n",
       "        text-align: right;\n",
       "    }\n",
       "</style>\n",
       "<table border=\"1\" class=\"dataframe\">\n",
       "  <thead>\n",
       "    <tr style=\"text-align: right;\">\n",
       "      <th></th>\n",
       "      <th>date</th>\n",
       "      <th>location</th>\n",
       "      <th>total_vaccinations</th>\n",
       "      <th>total_distributed</th>\n",
       "      <th>people_vaccinated</th>\n",
       "      <th>people_fully_vaccinated_per_hundred</th>\n",
       "      <th>total_vaccinations_per_hundred</th>\n",
       "      <th>people_fully_vaccinated</th>\n",
       "      <th>people_vaccinated_per_hundred</th>\n",
       "      <th>distributed_per_hundred</th>\n",
       "      <th>daily_vaccinations_raw</th>\n",
       "      <th>daily_vaccinations</th>\n",
       "      <th>daily_vaccinations_per_million</th>\n",
       "      <th>share_doses_used</th>\n",
       "      <th>total_boosters</th>\n",
       "      <th>total_boosters_per_hundred</th>\n",
       "    </tr>\n",
       "  </thead>\n",
       "  <tbody>\n",
       "    <tr>\n",
       "      <th>0</th>\n",
       "      <td>2021-01-12</td>\n",
       "      <td>Alabama</td>\n",
       "      <td>78134.0</td>\n",
       "      <td>377025.0</td>\n",
       "      <td>70861.0</td>\n",
       "      <td>0.15</td>\n",
       "      <td>1.59</td>\n",
       "      <td>7270.0</td>\n",
       "      <td>1.45</td>\n",
       "      <td>7.69</td>\n",
       "      <td>NaN</td>\n",
       "      <td>NaN</td>\n",
       "      <td>NaN</td>\n",
       "      <td>0.207</td>\n",
       "      <td>NaN</td>\n",
       "      <td>NaN</td>\n",
       "    </tr>\n",
       "    <tr>\n",
       "      <th>1</th>\n",
       "      <td>2021-01-13</td>\n",
       "      <td>Alabama</td>\n",
       "      <td>84040.0</td>\n",
       "      <td>378975.0</td>\n",
       "      <td>74792.0</td>\n",
       "      <td>0.19</td>\n",
       "      <td>1.71</td>\n",
       "      <td>9245.0</td>\n",
       "      <td>1.53</td>\n",
       "      <td>7.73</td>\n",
       "      <td>5906.0</td>\n",
       "      <td>5906.0</td>\n",
       "      <td>1205.0</td>\n",
       "      <td>0.222</td>\n",
       "      <td>NaN</td>\n",
       "      <td>NaN</td>\n",
       "    </tr>\n",
       "    <tr>\n",
       "      <th>2</th>\n",
       "      <td>2021-01-14</td>\n",
       "      <td>Alabama</td>\n",
       "      <td>92300.0</td>\n",
       "      <td>435350.0</td>\n",
       "      <td>80480.0</td>\n",
       "      <td>NaN</td>\n",
       "      <td>1.88</td>\n",
       "      <td>NaN</td>\n",
       "      <td>1.64</td>\n",
       "      <td>8.88</td>\n",
       "      <td>8260.0</td>\n",
       "      <td>7083.0</td>\n",
       "      <td>1445.0</td>\n",
       "      <td>0.212</td>\n",
       "      <td>NaN</td>\n",
       "      <td>NaN</td>\n",
       "    </tr>\n",
       "    <tr>\n",
       "      <th>3</th>\n",
       "      <td>2021-01-15</td>\n",
       "      <td>Alabama</td>\n",
       "      <td>100567.0</td>\n",
       "      <td>444650.0</td>\n",
       "      <td>86956.0</td>\n",
       "      <td>0.28</td>\n",
       "      <td>2.05</td>\n",
       "      <td>13488.0</td>\n",
       "      <td>1.77</td>\n",
       "      <td>9.07</td>\n",
       "      <td>8267.0</td>\n",
       "      <td>7478.0</td>\n",
       "      <td>1525.0</td>\n",
       "      <td>0.226</td>\n",
       "      <td>NaN</td>\n",
       "      <td>NaN</td>\n",
       "    </tr>\n",
       "    <tr>\n",
       "      <th>4</th>\n",
       "      <td>2021-01-16</td>\n",
       "      <td>Alabama</td>\n",
       "      <td>NaN</td>\n",
       "      <td>NaN</td>\n",
       "      <td>NaN</td>\n",
       "      <td>NaN</td>\n",
       "      <td>NaN</td>\n",
       "      <td>NaN</td>\n",
       "      <td>NaN</td>\n",
       "      <td>NaN</td>\n",
       "      <td>NaN</td>\n",
       "      <td>7498.0</td>\n",
       "      <td>1529.0</td>\n",
       "      <td>NaN</td>\n",
       "      <td>NaN</td>\n",
       "      <td>NaN</td>\n",
       "    </tr>\n",
       "  </tbody>\n",
       "</table>\n",
       "</div>"
      ],
      "text/plain": [
       "         date location  total_vaccinations  total_distributed  \\\n",
       "0  2021-01-12  Alabama             78134.0           377025.0   \n",
       "1  2021-01-13  Alabama             84040.0           378975.0   \n",
       "2  2021-01-14  Alabama             92300.0           435350.0   \n",
       "3  2021-01-15  Alabama            100567.0           444650.0   \n",
       "4  2021-01-16  Alabama                 NaN                NaN   \n",
       "\n",
       "   people_vaccinated  people_fully_vaccinated_per_hundred  \\\n",
       "0            70861.0                                 0.15   \n",
       "1            74792.0                                 0.19   \n",
       "2            80480.0                                  NaN   \n",
       "3            86956.0                                 0.28   \n",
       "4                NaN                                  NaN   \n",
       "\n",
       "   total_vaccinations_per_hundred  people_fully_vaccinated  \\\n",
       "0                            1.59                   7270.0   \n",
       "1                            1.71                   9245.0   \n",
       "2                            1.88                      NaN   \n",
       "3                            2.05                  13488.0   \n",
       "4                             NaN                      NaN   \n",
       "\n",
       "   people_vaccinated_per_hundred  distributed_per_hundred  \\\n",
       "0                           1.45                     7.69   \n",
       "1                           1.53                     7.73   \n",
       "2                           1.64                     8.88   \n",
       "3                           1.77                     9.07   \n",
       "4                            NaN                      NaN   \n",
       "\n",
       "   daily_vaccinations_raw  daily_vaccinations  daily_vaccinations_per_million  \\\n",
       "0                     NaN                 NaN                             NaN   \n",
       "1                  5906.0              5906.0                          1205.0   \n",
       "2                  8260.0              7083.0                          1445.0   \n",
       "3                  8267.0              7478.0                          1525.0   \n",
       "4                     NaN              7498.0                          1529.0   \n",
       "\n",
       "   share_doses_used  total_boosters  total_boosters_per_hundred  \n",
       "0             0.207             NaN                         NaN  \n",
       "1             0.222             NaN                         NaN  \n",
       "2             0.212             NaN                         NaN  \n",
       "3             0.226             NaN                         NaN  \n",
       "4               NaN             NaN                         NaN  "
      ]
     },
     "execution_count": 8,
     "metadata": {},
     "output_type": "execute_result"
    }
   ],
   "source": [
    "df_us_covid19 = pd.read_csv('us_state_vaccinations.csv')\n",
    "df_us_covid19.head()"
   ]
  },
  {
   "cell_type": "code",
   "execution_count": 9,
   "metadata": {},
   "outputs": [
    {
     "data": {
      "text/plain": [
       "array(['Alabama', 'Alaska', 'American Samoa', 'Arizona', 'Arkansas',\n",
       "       'Bureau of Prisons', 'California', 'Colorado', 'Connecticut',\n",
       "       'Delaware', 'Dept of Defense', 'District of Columbia',\n",
       "       'Federated States of Micronesia', 'Florida', 'Georgia', 'Guam',\n",
       "       'Hawaii', 'Idaho', 'Illinois', 'Indian Health Svc', 'Indiana',\n",
       "       'Iowa', 'Kansas', 'Kentucky', 'Long Term Care', 'Louisiana',\n",
       "       'Maine', 'Marshall Islands', 'Maryland', 'Massachusetts',\n",
       "       'Michigan', 'Minnesota', 'Mississippi', 'Missouri', 'Montana',\n",
       "       'Nebraska', 'Nevada', 'New Hampshire', 'New Jersey', 'New Mexico',\n",
       "       'New York State', 'North Carolina', 'North Dakota',\n",
       "       'Northern Mariana Islands', 'Ohio', 'Oklahoma', 'Oregon',\n",
       "       'Pennsylvania', 'Puerto Rico', 'Republic of Palau', 'Rhode Island',\n",
       "       'South Carolina', 'South Dakota', 'Tennessee', 'Texas',\n",
       "       'United States', 'Utah', 'Vermont', 'Veterans Health',\n",
       "       'Virgin Islands', 'Virginia', 'Washington', 'West Virginia',\n",
       "       'Wisconsin', 'Wyoming'], dtype=object)"
      ]
     },
     "execution_count": 9,
     "metadata": {},
     "output_type": "execute_result"
    }
   ],
   "source": [
    "df_us_covid19['location'].unique()"
   ]
  },
  {
   "cell_type": "code",
   "execution_count": 10,
   "metadata": {},
   "outputs": [],
   "source": [
    "#Dropping Non States entries\n",
    "non_states = df_us_covid19['location'].isin(['Bureau of Prisons', 'Dept of Defense', 'United States', 'Veterans Health'])\n",
    "df_us_covid19 = df_us_covid19[~non_states]"
   ]
  },
  {
   "cell_type": "code",
   "execution_count": 11,
   "metadata": {},
   "outputs": [],
   "source": [
    "#Except date and location all other fields are Numbers, hence replacing Null with zero\n",
    "df_us_covid19=df_us_covid19.fillna(0)"
   ]
  },
  {
   "cell_type": "code",
   "execution_count": 13,
   "metadata": {},
   "outputs": [
    {
     "name": "stdout",
     "output_type": "stream",
     "text": [
      "2022-02-19 00:00:00\n",
      "2022-02-13 00:00:00\n"
     ]
    }
   ],
   "source": [
    "#Max date in the dataset and calculating last 7 days in data\n",
    "df_us_covid19['date_modified']=pd.to_datetime(df_us_covid19['date'])\n",
    "max_date=df_us_covid19['date_modified'].max()\n",
    "print(max_date)\n",
    "min_date=max_date-pd.to_timedelta(\"6day\")\n",
    "print(min_date)"
   ]
  },
  {
   "cell_type": "code",
   "execution_count": 16,
   "metadata": {},
   "outputs": [],
   "source": [
    "state_codes = pd.read_csv('world_country_and_usa_states_latitude_and_longitude_values.csv')\n",
    "state_codes = state_codes[['usa_state','usa_state_code']]\n"
   ]
  },
  {
   "cell_type": "code",
   "execution_count": 17,
   "metadata": {},
   "outputs": [],
   "source": [
    "df_us_covid19 = df_us_covid19.replace(\"New York State\", \"New York\")\n",
    "df_us_covid19 = df_us_covid19.merge(state_codes, left_on='location', right_on='usa_state')\n",
    "df_us_covid19 = df_us_covid19[df_us_covid19.date==np.max(df_us_covid19.date)]\n",
    "df_us_covid19 = df_us_covid19.sort_values(by=['people_fully_vaccinated_per_hundred'],ascending=False)"
   ]
  },
  {
   "cell_type": "code",
   "execution_count": 18,
   "metadata": {},
   "outputs": [
    {
     "data": {
      "text/html": [
       "<div>\n",
       "<style scoped>\n",
       "    .dataframe tbody tr th:only-of-type {\n",
       "        vertical-align: middle;\n",
       "    }\n",
       "\n",
       "    .dataframe tbody tr th {\n",
       "        vertical-align: top;\n",
       "    }\n",
       "\n",
       "    .dataframe thead th {\n",
       "        text-align: right;\n",
       "    }\n",
       "</style>\n",
       "<table border=\"1\" class=\"dataframe\">\n",
       "  <thead>\n",
       "    <tr style=\"text-align: right;\">\n",
       "      <th></th>\n",
       "      <th>date</th>\n",
       "      <th>location</th>\n",
       "      <th>total_vaccinations</th>\n",
       "      <th>total_distributed</th>\n",
       "      <th>people_vaccinated</th>\n",
       "      <th>people_fully_vaccinated_per_hundred</th>\n",
       "      <th>total_vaccinations_per_hundred</th>\n",
       "      <th>people_fully_vaccinated</th>\n",
       "      <th>people_vaccinated_per_hundred</th>\n",
       "      <th>distributed_per_hundred</th>\n",
       "      <th>daily_vaccinations_raw</th>\n",
       "      <th>daily_vaccinations</th>\n",
       "      <th>daily_vaccinations_per_million</th>\n",
       "      <th>share_doses_used</th>\n",
       "      <th>total_boosters</th>\n",
       "      <th>total_boosters_per_hundred</th>\n",
       "      <th>date_modified</th>\n",
       "      <th>usa_state</th>\n",
       "      <th>usa_state_code</th>\n",
       "    </tr>\n",
       "  </thead>\n",
       "  <tbody>\n",
       "    <tr>\n",
       "      <th>16159</th>\n",
       "      <td>2022-02-19</td>\n",
       "      <td>Puerto Rico</td>\n",
       "      <td>6820071.0</td>\n",
       "      <td>7264190.0</td>\n",
       "      <td>3028205.0</td>\n",
       "      <td>80.84</td>\n",
       "      <td>213.55</td>\n",
       "      <td>2581754.0</td>\n",
       "      <td>94.82</td>\n",
       "      <td>227.45</td>\n",
       "      <td>54.0</td>\n",
       "      <td>10408.0</td>\n",
       "      <td>3259.0</td>\n",
       "      <td>0.939</td>\n",
       "      <td>1289578.0</td>\n",
       "      <td>40.38</td>\n",
       "      <td>2022-02-19</td>\n",
       "      <td>Puerto Rico</td>\n",
       "      <td>PR</td>\n",
       "    </tr>\n",
       "    <tr>\n",
       "      <th>16563</th>\n",
       "      <td>2022-02-19</td>\n",
       "      <td>Rhode Island</td>\n",
       "      <td>2120494.0</td>\n",
       "      <td>2484625.0</td>\n",
       "      <td>1016090.0</td>\n",
       "      <td>80.33</td>\n",
       "      <td>200.17</td>\n",
       "      <td>850948.0</td>\n",
       "      <td>95.92</td>\n",
       "      <td>234.54</td>\n",
       "      <td>1730.0</td>\n",
       "      <td>2131.0</td>\n",
       "      <td>2012.0</td>\n",
       "      <td>0.853</td>\n",
       "      <td>433591.0</td>\n",
       "      <td>40.93</td>\n",
       "      <td>2022-02-19</td>\n",
       "      <td>Rhode Island</td>\n",
       "      <td>RI</td>\n",
       "    </tr>\n",
       "    <tr>\n",
       "      <th>18987</th>\n",
       "      <td>2022-02-19</td>\n",
       "      <td>Vermont</td>\n",
       "      <td>1341480.0</td>\n",
       "      <td>1689750.0</td>\n",
       "      <td>578725.0</td>\n",
       "      <td>80.00</td>\n",
       "      <td>214.98</td>\n",
       "      <td>499195.0</td>\n",
       "      <td>92.75</td>\n",
       "      <td>270.80</td>\n",
       "      <td>889.0</td>\n",
       "      <td>906.0</td>\n",
       "      <td>1452.0</td>\n",
       "      <td>0.794</td>\n",
       "      <td>290407.0</td>\n",
       "      <td>46.54</td>\n",
       "      <td>2022-02-19</td>\n",
       "      <td>Vermont</td>\n",
       "      <td>VT</td>\n",
       "    </tr>\n",
       "    <tr>\n",
       "      <th>8079</th>\n",
       "      <td>2022-02-19</td>\n",
       "      <td>Maine</td>\n",
       "      <td>2694083.0</td>\n",
       "      <td>3175550.0</td>\n",
       "      <td>1198247.0</td>\n",
       "      <td>78.22</td>\n",
       "      <td>200.42</td>\n",
       "      <td>1051490.0</td>\n",
       "      <td>89.14</td>\n",
       "      <td>236.24</td>\n",
       "      <td>1895.0</td>\n",
       "      <td>1977.0</td>\n",
       "      <td>1471.0</td>\n",
       "      <td>0.848</td>\n",
       "      <td>560897.0</td>\n",
       "      <td>41.73</td>\n",
       "      <td>2022-02-19</td>\n",
       "      <td>Maine</td>\n",
       "      <td>ME</td>\n",
       "    </tr>\n",
       "    <tr>\n",
       "      <th>2827</th>\n",
       "      <td>2022-02-19</td>\n",
       "      <td>Connecticut</td>\n",
       "      <td>7249762.0</td>\n",
       "      <td>8265235.0</td>\n",
       "      <td>3337878.0</td>\n",
       "      <td>77.54</td>\n",
       "      <td>203.34</td>\n",
       "      <td>2764670.0</td>\n",
       "      <td>93.62</td>\n",
       "      <td>231.83</td>\n",
       "      <td>5514.0</td>\n",
       "      <td>6349.0</td>\n",
       "      <td>1781.0</td>\n",
       "      <td>0.877</td>\n",
       "      <td>1350791.0</td>\n",
       "      <td>37.89</td>\n",
       "      <td>2022-02-19</td>\n",
       "      <td>Connecticut</td>\n",
       "      <td>CT</td>\n",
       "    </tr>\n",
       "    <tr>\n",
       "      <th>8887</th>\n",
       "      <td>2022-02-19</td>\n",
       "      <td>Massachusetts</td>\n",
       "      <td>14191945.0</td>\n",
       "      <td>16095890.0</td>\n",
       "      <td>6629739.0</td>\n",
       "      <td>77.42</td>\n",
       "      <td>205.90</td>\n",
       "      <td>5336437.0</td>\n",
       "      <td>96.19</td>\n",
       "      <td>233.53</td>\n",
       "      <td>14531.0</td>\n",
       "      <td>12920.0</td>\n",
       "      <td>1875.0</td>\n",
       "      <td>0.882</td>\n",
       "      <td>2612718.0</td>\n",
       "      <td>37.91</td>\n",
       "      <td>2022-02-19</td>\n",
       "      <td>Massachusetts</td>\n",
       "      <td>MA</td>\n",
       "    </tr>\n",
       "    <tr>\n",
       "      <th>4847</th>\n",
       "      <td>2022-02-19</td>\n",
       "      <td>Hawaii</td>\n",
       "      <td>2789550.0</td>\n",
       "      <td>3308180.0</td>\n",
       "      <td>1217519.0</td>\n",
       "      <td>76.94</td>\n",
       "      <td>197.02</td>\n",
       "      <td>1089305.0</td>\n",
       "      <td>85.99</td>\n",
       "      <td>233.65</td>\n",
       "      <td>2700.0</td>\n",
       "      <td>4927.0</td>\n",
       "      <td>3480.0</td>\n",
       "      <td>0.843</td>\n",
       "      <td>532777.0</td>\n",
       "      <td>37.63</td>\n",
       "      <td>2022-02-19</td>\n",
       "      <td>Hawaii</td>\n",
       "      <td>HI</td>\n",
       "    </tr>\n",
       "    <tr>\n",
       "      <th>13331</th>\n",
       "      <td>2022-02-19</td>\n",
       "      <td>New York</td>\n",
       "      <td>37573510.0</td>\n",
       "      <td>43700145.0</td>\n",
       "      <td>17235231.0</td>\n",
       "      <td>75.22</td>\n",
       "      <td>193.14</td>\n",
       "      <td>14632320.0</td>\n",
       "      <td>88.60</td>\n",
       "      <td>224.64</td>\n",
       "      <td>59901.0</td>\n",
       "      <td>44539.0</td>\n",
       "      <td>2290.0</td>\n",
       "      <td>0.860</td>\n",
       "      <td>6303525.0</td>\n",
       "      <td>32.40</td>\n",
       "      <td>2022-02-19</td>\n",
       "      <td>New York</td>\n",
       "      <td>NY</td>\n",
       "    </tr>\n",
       "    <tr>\n",
       "      <th>12523</th>\n",
       "      <td>2022-02-19</td>\n",
       "      <td>New Jersey</td>\n",
       "      <td>16438280.0</td>\n",
       "      <td>20831835.0</td>\n",
       "      <td>7873976.0</td>\n",
       "      <td>73.95</td>\n",
       "      <td>185.07</td>\n",
       "      <td>6568615.0</td>\n",
       "      <td>88.65</td>\n",
       "      <td>234.53</td>\n",
       "      <td>19035.0</td>\n",
       "      <td>16481.0</td>\n",
       "      <td>1856.0</td>\n",
       "      <td>0.789</td>\n",
       "      <td>2909139.0</td>\n",
       "      <td>32.75</td>\n",
       "      <td>2022-02-19</td>\n",
       "      <td>New Jersey</td>\n",
       "      <td>NJ</td>\n",
       "    </tr>\n",
       "    <tr>\n",
       "      <th>8483</th>\n",
       "      <td>2022-02-19</td>\n",
       "      <td>Maryland</td>\n",
       "      <td>11440813.0</td>\n",
       "      <td>14931710.0</td>\n",
       "      <td>5114684.0</td>\n",
       "      <td>73.73</td>\n",
       "      <td>189.24</td>\n",
       "      <td>4457347.0</td>\n",
       "      <td>84.60</td>\n",
       "      <td>246.98</td>\n",
       "      <td>10120.0</td>\n",
       "      <td>14066.0</td>\n",
       "      <td>2327.0</td>\n",
       "      <td>0.766</td>\n",
       "      <td>2146138.0</td>\n",
       "      <td>35.50</td>\n",
       "      <td>2022-02-19</td>\n",
       "      <td>Maryland</td>\n",
       "      <td>MD</td>\n",
       "    </tr>\n",
       "    <tr>\n",
       "      <th>19391</th>\n",
       "      <td>2022-02-19</td>\n",
       "      <td>Virginia</td>\n",
       "      <td>15801583.0</td>\n",
       "      <td>18653105.0</td>\n",
       "      <td>7191538.0</td>\n",
       "      <td>71.73</td>\n",
       "      <td>185.13</td>\n",
       "      <td>6122124.0</td>\n",
       "      <td>84.25</td>\n",
       "      <td>218.54</td>\n",
       "      <td>9861.0</td>\n",
       "      <td>31033.0</td>\n",
       "      <td>3636.0</td>\n",
       "      <td>0.847</td>\n",
       "      <td>2770876.0</td>\n",
       "      <td>32.46</td>\n",
       "      <td>2022-02-19</td>\n",
       "      <td>Virginia</td>\n",
       "      <td>VA</td>\n",
       "    </tr>\n",
       "    <tr>\n",
       "      <th>19795</th>\n",
       "      <td>2022-02-19</td>\n",
       "      <td>Washington</td>\n",
       "      <td>13768068.0</td>\n",
       "      <td>16755495.0</td>\n",
       "      <td>6055165.0</td>\n",
       "      <td>71.17</td>\n",
       "      <td>180.80</td>\n",
       "      <td>5419707.0</td>\n",
       "      <td>79.52</td>\n",
       "      <td>220.04</td>\n",
       "      <td>12124.0</td>\n",
       "      <td>21810.0</td>\n",
       "      <td>2864.0</td>\n",
       "      <td>0.822</td>\n",
       "      <td>2676649.0</td>\n",
       "      <td>35.15</td>\n",
       "      <td>2022-02-19</td>\n",
       "      <td>Washington</td>\n",
       "      <td>WA</td>\n",
       "    </tr>\n",
       "    <tr>\n",
       "      <th>3635</th>\n",
       "      <td>2022-02-19</td>\n",
       "      <td>District of Columbia</td>\n",
       "      <td>1407104.0</td>\n",
       "      <td>1762305.0</td>\n",
       "      <td>668652.0</td>\n",
       "      <td>71.12</td>\n",
       "      <td>199.38</td>\n",
       "      <td>501905.0</td>\n",
       "      <td>94.74</td>\n",
       "      <td>249.71</td>\n",
       "      <td>1432.0</td>\n",
       "      <td>2350.0</td>\n",
       "      <td>3330.0</td>\n",
       "      <td>0.798</td>\n",
       "      <td>171938.0</td>\n",
       "      <td>24.36</td>\n",
       "      <td>2022-02-19</td>\n",
       "      <td>District of Columbia</td>\n",
       "      <td>DC</td>\n",
       "    </tr>\n",
       "    <tr>\n",
       "      <th>2019</th>\n",
       "      <td>2022-02-19</td>\n",
       "      <td>California</td>\n",
       "      <td>71044784.0</td>\n",
       "      <td>85497625.0</td>\n",
       "      <td>32212960.0</td>\n",
       "      <td>70.13</td>\n",
       "      <td>179.80</td>\n",
       "      <td>27708341.0</td>\n",
       "      <td>81.53</td>\n",
       "      <td>216.38</td>\n",
       "      <td>92531.0</td>\n",
       "      <td>94936.0</td>\n",
       "      <td>2403.0</td>\n",
       "      <td>0.831</td>\n",
       "      <td>13144245.0</td>\n",
       "      <td>33.27</td>\n",
       "      <td>2022-02-19</td>\n",
       "      <td>California</td>\n",
       "      <td>CA</td>\n",
       "    </tr>\n",
       "    <tr>\n",
       "      <th>12119</th>\n",
       "      <td>2022-02-19</td>\n",
       "      <td>New Hampshire</td>\n",
       "      <td>2616383.0</td>\n",
       "      <td>3256030.0</td>\n",
       "      <td>1461108.0</td>\n",
       "      <td>69.64</td>\n",
       "      <td>192.42</td>\n",
       "      <td>946944.0</td>\n",
       "      <td>107.46</td>\n",
       "      <td>239.46</td>\n",
       "      <td>679.0</td>\n",
       "      <td>2814.0</td>\n",
       "      <td>2070.0</td>\n",
       "      <td>0.804</td>\n",
       "      <td>196452.0</td>\n",
       "      <td>14.45</td>\n",
       "      <td>2022-02-19</td>\n",
       "      <td>New Hampshire</td>\n",
       "      <td>NH</td>\n",
       "    </tr>\n",
       "    <tr>\n",
       "      <th>12927</th>\n",
       "      <td>2022-02-19</td>\n",
       "      <td>New Mexico</td>\n",
       "      <td>3742875.0</td>\n",
       "      <td>4227345.0</td>\n",
       "      <td>1795147.0</td>\n",
       "      <td>69.34</td>\n",
       "      <td>178.50</td>\n",
       "      <td>1454046.0</td>\n",
       "      <td>85.61</td>\n",
       "      <td>201.61</td>\n",
       "      <td>3041.0</td>\n",
       "      <td>5248.0</td>\n",
       "      <td>2503.0</td>\n",
       "      <td>0.885</td>\n",
       "      <td>689989.0</td>\n",
       "      <td>32.91</td>\n",
       "      <td>2022-02-19</td>\n",
       "      <td>New Mexico</td>\n",
       "      <td>NM</td>\n",
       "    </tr>\n",
       "    <tr>\n",
       "      <th>2423</th>\n",
       "      <td>2022-02-19</td>\n",
       "      <td>Colorado</td>\n",
       "      <td>10271794.0</td>\n",
       "      <td>11800575.0</td>\n",
       "      <td>4501160.0</td>\n",
       "      <td>69.02</td>\n",
       "      <td>178.37</td>\n",
       "      <td>3974464.0</td>\n",
       "      <td>78.16</td>\n",
       "      <td>204.92</td>\n",
       "      <td>8880.0</td>\n",
       "      <td>14485.0</td>\n",
       "      <td>2515.0</td>\n",
       "      <td>0.870</td>\n",
       "      <td>1967941.0</td>\n",
       "      <td>34.17</td>\n",
       "      <td>2022-02-19</td>\n",
       "      <td>Colorado</td>\n",
       "      <td>CO</td>\n",
       "    </tr>\n",
       "    <tr>\n",
       "      <th>15351</th>\n",
       "      <td>2022-02-19</td>\n",
       "      <td>Oregon</td>\n",
       "      <td>7407757.0</td>\n",
       "      <td>9486185.0</td>\n",
       "      <td>3238459.0</td>\n",
       "      <td>68.49</td>\n",
       "      <td>175.63</td>\n",
       "      <td>2888724.0</td>\n",
       "      <td>76.78</td>\n",
       "      <td>224.91</td>\n",
       "      <td>7218.0</td>\n",
       "      <td>6366.0</td>\n",
       "      <td>1509.0</td>\n",
       "      <td>0.781</td>\n",
       "      <td>1466741.0</td>\n",
       "      <td>34.78</td>\n",
       "      <td>2022-02-19</td>\n",
       "      <td>Oregon</td>\n",
       "      <td>OR</td>\n",
       "    </tr>\n",
       "    <tr>\n",
       "      <th>9695</th>\n",
       "      <td>2022-02-19</td>\n",
       "      <td>Minnesota</td>\n",
       "      <td>9853584.0</td>\n",
       "      <td>11914970.0</td>\n",
       "      <td>4183752.0</td>\n",
       "      <td>67.92</td>\n",
       "      <td>174.72</td>\n",
       "      <td>3830382.0</td>\n",
       "      <td>74.18</td>\n",
       "      <td>211.27</td>\n",
       "      <td>8122.0</td>\n",
       "      <td>7368.0</td>\n",
       "      <td>1306.0</td>\n",
       "      <td>0.827</td>\n",
       "      <td>2125396.0</td>\n",
       "      <td>37.69</td>\n",
       "      <td>2022-02-19</td>\n",
       "      <td>Minnesota</td>\n",
       "      <td>MN</td>\n",
       "    </tr>\n",
       "    <tr>\n",
       "      <th>3231</th>\n",
       "      <td>2022-02-19</td>\n",
       "      <td>Delaware</td>\n",
       "      <td>1723629.0</td>\n",
       "      <td>2211055.0</td>\n",
       "      <td>793346.0</td>\n",
       "      <td>67.28</td>\n",
       "      <td>177.01</td>\n",
       "      <td>655127.0</td>\n",
       "      <td>81.47</td>\n",
       "      <td>227.06</td>\n",
       "      <td>1805.0</td>\n",
       "      <td>2006.0</td>\n",
       "      <td>2060.0</td>\n",
       "      <td>0.780</td>\n",
       "      <td>284502.0</td>\n",
       "      <td>29.22</td>\n",
       "      <td>2022-02-19</td>\n",
       "      <td>Delaware</td>\n",
       "      <td>DE</td>\n",
       "    </tr>\n",
       "    <tr>\n",
       "      <th>5655</th>\n",
       "      <td>2022-02-19</td>\n",
       "      <td>Illinois</td>\n",
       "      <td>21636884.0</td>\n",
       "      <td>25990855.0</td>\n",
       "      <td>9600247.0</td>\n",
       "      <td>67.10</td>\n",
       "      <td>170.75</td>\n",
       "      <td>8503109.0</td>\n",
       "      <td>75.76</td>\n",
       "      <td>205.11</td>\n",
       "      <td>30022.0</td>\n",
       "      <td>21943.0</td>\n",
       "      <td>1732.0</td>\n",
       "      <td>0.832</td>\n",
       "      <td>4145800.0</td>\n",
       "      <td>32.72</td>\n",
       "      <td>2022-02-19</td>\n",
       "      <td>Illinois</td>\n",
       "      <td>IL</td>\n",
       "    </tr>\n",
       "    <tr>\n",
       "      <th>15755</th>\n",
       "      <td>2022-02-19</td>\n",
       "      <td>Pennsylvania</td>\n",
       "      <td>21965985.0</td>\n",
       "      <td>28672425.0</td>\n",
       "      <td>10626942.0</td>\n",
       "      <td>66.67</td>\n",
       "      <td>171.58</td>\n",
       "      <td>8535603.0</td>\n",
       "      <td>83.01</td>\n",
       "      <td>223.97</td>\n",
       "      <td>15737.0</td>\n",
       "      <td>15117.0</td>\n",
       "      <td>1181.0</td>\n",
       "      <td>0.766</td>\n",
       "      <td>3483781.0</td>\n",
       "      <td>27.21</td>\n",
       "      <td>2022-02-19</td>\n",
       "      <td>Pennsylvania</td>\n",
       "      <td>PA</td>\n",
       "    </tr>\n",
       "    <tr>\n",
       "      <th>4039</th>\n",
       "      <td>2022-02-19</td>\n",
       "      <td>Florida</td>\n",
       "      <td>35955869.0</td>\n",
       "      <td>45399045.0</td>\n",
       "      <td>16717084.0</td>\n",
       "      <td>65.73</td>\n",
       "      <td>167.41</td>\n",
       "      <td>14118218.0</td>\n",
       "      <td>77.83</td>\n",
       "      <td>211.38</td>\n",
       "      <td>20691.0</td>\n",
       "      <td>36289.0</td>\n",
       "      <td>1690.0</td>\n",
       "      <td>0.792</td>\n",
       "      <td>5370757.0</td>\n",
       "      <td>25.01</td>\n",
       "      <td>2022-02-19</td>\n",
       "      <td>Florida</td>\n",
       "      <td>FL</td>\n",
       "    </tr>\n",
       "    <tr>\n",
       "      <th>20603</th>\n",
       "      <td>2022-02-19</td>\n",
       "      <td>Wisconsin</td>\n",
       "      <td>9822252.0</td>\n",
       "      <td>11027045.0</td>\n",
       "      <td>4129254.0</td>\n",
       "      <td>64.37</td>\n",
       "      <td>168.70</td>\n",
       "      <td>3747663.0</td>\n",
       "      <td>70.92</td>\n",
       "      <td>189.39</td>\n",
       "      <td>7681.0</td>\n",
       "      <td>6836.0</td>\n",
       "      <td>1174.0</td>\n",
       "      <td>0.891</td>\n",
       "      <td>2023899.0</td>\n",
       "      <td>34.76</td>\n",
       "      <td>2022-02-19</td>\n",
       "      <td>Wisconsin</td>\n",
       "      <td>WI</td>\n",
       "    </tr>\n",
       "    <tr>\n",
       "      <th>18583</th>\n",
       "      <td>2022-02-19</td>\n",
       "      <td>Utah</td>\n",
       "      <td>5045161.0</td>\n",
       "      <td>5957750.0</td>\n",
       "      <td>2278593.0</td>\n",
       "      <td>63.09</td>\n",
       "      <td>157.37</td>\n",
       "      <td>2022786.0</td>\n",
       "      <td>71.07</td>\n",
       "      <td>185.83</td>\n",
       "      <td>4491.0</td>\n",
       "      <td>8877.0</td>\n",
       "      <td>2769.0</td>\n",
       "      <td>0.847</td>\n",
       "      <td>858758.0</td>\n",
       "      <td>26.79</td>\n",
       "      <td>2022-02-19</td>\n",
       "      <td>Utah</td>\n",
       "      <td>UT</td>\n",
       "    </tr>\n",
       "    <tr>\n",
       "      <th>11311</th>\n",
       "      <td>2022-02-19</td>\n",
       "      <td>Nebraska</td>\n",
       "      <td>3068726.0</td>\n",
       "      <td>3752010.0</td>\n",
       "      <td>1339221.0</td>\n",
       "      <td>62.30</td>\n",
       "      <td>158.64</td>\n",
       "      <td>1205071.0</td>\n",
       "      <td>69.23</td>\n",
       "      <td>193.96</td>\n",
       "      <td>2624.0</td>\n",
       "      <td>3269.0</td>\n",
       "      <td>1690.0</td>\n",
       "      <td>0.818</td>\n",
       "      <td>577702.0</td>\n",
       "      <td>29.86</td>\n",
       "      <td>2022-02-19</td>\n",
       "      <td>Nebraska</td>\n",
       "      <td>NE</td>\n",
       "    </tr>\n",
       "    <tr>\n",
       "      <th>6463</th>\n",
       "      <td>2022-02-19</td>\n",
       "      <td>Iowa</td>\n",
       "      <td>4907301.0</td>\n",
       "      <td>6211455.0</td>\n",
       "      <td>2118546.0</td>\n",
       "      <td>60.94</td>\n",
       "      <td>155.54</td>\n",
       "      <td>1922643.0</td>\n",
       "      <td>67.15</td>\n",
       "      <td>196.87</td>\n",
       "      <td>2879.0</td>\n",
       "      <td>3038.0</td>\n",
       "      <td>963.0</td>\n",
       "      <td>0.790</td>\n",
       "      <td>986416.0</td>\n",
       "      <td>31.26</td>\n",
       "      <td>2022-02-19</td>\n",
       "      <td>Iowa</td>\n",
       "      <td>IA</td>\n",
       "    </tr>\n",
       "    <tr>\n",
       "      <th>807</th>\n",
       "      <td>2022-02-19</td>\n",
       "      <td>Alaska</td>\n",
       "      <td>1090981.0</td>\n",
       "      <td>1430265.0</td>\n",
       "      <td>500156.0</td>\n",
       "      <td>60.80</td>\n",
       "      <td>149.13</td>\n",
       "      <td>444763.0</td>\n",
       "      <td>68.37</td>\n",
       "      <td>195.51</td>\n",
       "      <td>691.0</td>\n",
       "      <td>2503.0</td>\n",
       "      <td>3422.0</td>\n",
       "      <td>0.763</td>\n",
       "      <td>180744.0</td>\n",
       "      <td>24.71</td>\n",
       "      <td>2022-02-19</td>\n",
       "      <td>Alaska</td>\n",
       "      <td>AK</td>\n",
       "    </tr>\n",
       "    <tr>\n",
       "      <th>6867</th>\n",
       "      <td>2022-02-19</td>\n",
       "      <td>Kansas</td>\n",
       "      <td>4415444.0</td>\n",
       "      <td>5717315.0</td>\n",
       "      <td>2133369.0</td>\n",
       "      <td>59.91</td>\n",
       "      <td>151.56</td>\n",
       "      <td>1745263.0</td>\n",
       "      <td>73.23</td>\n",
       "      <td>196.25</td>\n",
       "      <td>3546.0</td>\n",
       "      <td>6285.0</td>\n",
       "      <td>2157.0</td>\n",
       "      <td>0.772</td>\n",
       "      <td>713302.0</td>\n",
       "      <td>24.48</td>\n",
       "      <td>2022-02-19</td>\n",
       "      <td>Kansas</td>\n",
       "      <td>KS</td>\n",
       "    </tr>\n",
       "    <tr>\n",
       "      <th>1211</th>\n",
       "      <td>2022-02-19</td>\n",
       "      <td>Arizona</td>\n",
       "      <td>11466594.0</td>\n",
       "      <td>13979320.0</td>\n",
       "      <td>5180890.0</td>\n",
       "      <td>59.79</td>\n",
       "      <td>157.54</td>\n",
       "      <td>4352169.0</td>\n",
       "      <td>71.18</td>\n",
       "      <td>192.06</td>\n",
       "      <td>11555.0</td>\n",
       "      <td>14420.0</td>\n",
       "      <td>1981.0</td>\n",
       "      <td>0.820</td>\n",
       "      <td>1701268.0</td>\n",
       "      <td>23.37</td>\n",
       "      <td>2022-02-19</td>\n",
       "      <td>Arizona</td>\n",
       "      <td>AZ</td>\n",
       "    </tr>\n",
       "    <tr>\n",
       "      <th>18179</th>\n",
       "      <td>2022-02-19</td>\n",
       "      <td>Texas</td>\n",
       "      <td>44077433.0</td>\n",
       "      <td>58558295.0</td>\n",
       "      <td>20473981.0</td>\n",
       "      <td>59.75</td>\n",
       "      <td>152.01</td>\n",
       "      <td>17323697.0</td>\n",
       "      <td>70.61</td>\n",
       "      <td>201.95</td>\n",
       "      <td>44615.0</td>\n",
       "      <td>56022.0</td>\n",
       "      <td>1932.0</td>\n",
       "      <td>0.753</td>\n",
       "      <td>6138740.0</td>\n",
       "      <td>21.17</td>\n",
       "      <td>2022-02-19</td>\n",
       "      <td>Texas</td>\n",
       "      <td>TX</td>\n",
       "    </tr>\n",
       "    <tr>\n",
       "      <th>17371</th>\n",
       "      <td>2022-02-19</td>\n",
       "      <td>South Dakota</td>\n",
       "      <td>1349798.0</td>\n",
       "      <td>1754565.0</td>\n",
       "      <td>661006.0</td>\n",
       "      <td>59.66</td>\n",
       "      <td>152.58</td>\n",
       "      <td>527824.0</td>\n",
       "      <td>74.72</td>\n",
       "      <td>198.33</td>\n",
       "      <td>891.0</td>\n",
       "      <td>1188.0</td>\n",
       "      <td>1343.0</td>\n",
       "      <td>0.769</td>\n",
       "      <td>209912.0</td>\n",
       "      <td>23.73</td>\n",
       "      <td>2022-02-19</td>\n",
       "      <td>South Dakota</td>\n",
       "      <td>SD</td>\n",
       "    </tr>\n",
       "    <tr>\n",
       "      <th>11715</th>\n",
       "      <td>2022-02-19</td>\n",
       "      <td>Nevada</td>\n",
       "      <td>4688615.0</td>\n",
       "      <td>5641410.0</td>\n",
       "      <td>2272816.0</td>\n",
       "      <td>59.46</td>\n",
       "      <td>152.22</td>\n",
       "      <td>1831584.0</td>\n",
       "      <td>73.79</td>\n",
       "      <td>183.15</td>\n",
       "      <td>3097.0</td>\n",
       "      <td>6149.0</td>\n",
       "      <td>1996.0</td>\n",
       "      <td>0.831</td>\n",
       "      <td>673329.0</td>\n",
       "      <td>21.86</td>\n",
       "      <td>2022-02-19</td>\n",
       "      <td>Nevada</td>\n",
       "      <td>NV</td>\n",
       "    </tr>\n",
       "    <tr>\n",
       "      <th>13735</th>\n",
       "      <td>2022-02-19</td>\n",
       "      <td>North Carolina</td>\n",
       "      <td>16040239.0</td>\n",
       "      <td>20744900.0</td>\n",
       "      <td>8596653.0</td>\n",
       "      <td>59.13</td>\n",
       "      <td>152.94</td>\n",
       "      <td>6201249.0</td>\n",
       "      <td>81.97</td>\n",
       "      <td>197.79</td>\n",
       "      <td>10618.0</td>\n",
       "      <td>17558.0</td>\n",
       "      <td>1674.0</td>\n",
       "      <td>0.773</td>\n",
       "      <td>1544360.0</td>\n",
       "      <td>14.72</td>\n",
       "      <td>2022-02-19</td>\n",
       "      <td>North Carolina</td>\n",
       "      <td>NC</td>\n",
       "    </tr>\n",
       "    <tr>\n",
       "      <th>9291</th>\n",
       "      <td>2022-02-19</td>\n",
       "      <td>Michigan</td>\n",
       "      <td>15086338.0</td>\n",
       "      <td>19906730.0</td>\n",
       "      <td>6576803.0</td>\n",
       "      <td>58.98</td>\n",
       "      <td>151.06</td>\n",
       "      <td>5889772.0</td>\n",
       "      <td>65.85</td>\n",
       "      <td>199.33</td>\n",
       "      <td>10832.0</td>\n",
       "      <td>20195.0</td>\n",
       "      <td>2022.0</td>\n",
       "      <td>0.758</td>\n",
       "      <td>2985640.0</td>\n",
       "      <td>29.90</td>\n",
       "      <td>2022-02-19</td>\n",
       "      <td>Michigan</td>\n",
       "      <td>MI</td>\n",
       "    </tr>\n",
       "    <tr>\n",
       "      <th>14543</th>\n",
       "      <td>2022-02-19</td>\n",
       "      <td>Ohio</td>\n",
       "      <td>17152418.0</td>\n",
       "      <td>21847955.0</td>\n",
       "      <td>7334670.0</td>\n",
       "      <td>57.42</td>\n",
       "      <td>146.74</td>\n",
       "      <td>6712161.0</td>\n",
       "      <td>62.75</td>\n",
       "      <td>186.91</td>\n",
       "      <td>12122.0</td>\n",
       "      <td>13235.0</td>\n",
       "      <td>1132.0</td>\n",
       "      <td>0.785</td>\n",
       "      <td>3362159.0</td>\n",
       "      <td>28.76</td>\n",
       "      <td>2022-02-19</td>\n",
       "      <td>Ohio</td>\n",
       "      <td>OH</td>\n",
       "    </tr>\n",
       "    <tr>\n",
       "      <th>20199</th>\n",
       "      <td>2022-02-19</td>\n",
       "      <td>West Virginia</td>\n",
       "      <td>2626426.0</td>\n",
       "      <td>3829685.0</td>\n",
       "      <td>1147923.0</td>\n",
       "      <td>56.64</td>\n",
       "      <td>146.55</td>\n",
       "      <td>1015030.0</td>\n",
       "      <td>64.05</td>\n",
       "      <td>213.69</td>\n",
       "      <td>1551.0</td>\n",
       "      <td>1688.0</td>\n",
       "      <td>942.0</td>\n",
       "      <td>0.686</td>\n",
       "      <td>445205.0</td>\n",
       "      <td>24.84</td>\n",
       "      <td>2022-02-19</td>\n",
       "      <td>West Virginia</td>\n",
       "      <td>WV</td>\n",
       "    </tr>\n",
       "    <tr>\n",
       "      <th>7271</th>\n",
       "      <td>2022-02-19</td>\n",
       "      <td>Kentucky</td>\n",
       "      <td>6295671.0</td>\n",
       "      <td>8332475.0</td>\n",
       "      <td>2911535.0</td>\n",
       "      <td>56.30</td>\n",
       "      <td>140.92</td>\n",
       "      <td>2515316.0</td>\n",
       "      <td>65.17</td>\n",
       "      <td>186.51</td>\n",
       "      <td>9427.0</td>\n",
       "      <td>6377.0</td>\n",
       "      <td>1427.0</td>\n",
       "      <td>0.756</td>\n",
       "      <td>1068350.0</td>\n",
       "      <td>23.91</td>\n",
       "      <td>2022-02-19</td>\n",
       "      <td>Kentucky</td>\n",
       "      <td>KY</td>\n",
       "    </tr>\n",
       "    <tr>\n",
       "      <th>14947</th>\n",
       "      <td>2022-02-19</td>\n",
       "      <td>Oklahoma</td>\n",
       "      <td>5698405.0</td>\n",
       "      <td>6953230.0</td>\n",
       "      <td>2762682.0</td>\n",
       "      <td>55.84</td>\n",
       "      <td>144.01</td>\n",
       "      <td>2209577.0</td>\n",
       "      <td>69.82</td>\n",
       "      <td>175.72</td>\n",
       "      <td>3757.0</td>\n",
       "      <td>6376.0</td>\n",
       "      <td>1611.0</td>\n",
       "      <td>0.820</td>\n",
       "      <td>794728.0</td>\n",
       "      <td>20.08</td>\n",
       "      <td>2022-02-19</td>\n",
       "      <td>Oklahoma</td>\n",
       "      <td>OK</td>\n",
       "    </tr>\n",
       "    <tr>\n",
       "      <th>10907</th>\n",
       "      <td>2022-02-19</td>\n",
       "      <td>Montana</td>\n",
       "      <td>1530012.0</td>\n",
       "      <td>1872295.0</td>\n",
       "      <td>687924.0</td>\n",
       "      <td>55.79</td>\n",
       "      <td>143.16</td>\n",
       "      <td>596255.0</td>\n",
       "      <td>64.37</td>\n",
       "      <td>175.18</td>\n",
       "      <td>1111.0</td>\n",
       "      <td>1405.0</td>\n",
       "      <td>1315.0</td>\n",
       "      <td>0.817</td>\n",
       "      <td>274418.0</td>\n",
       "      <td>25.68</td>\n",
       "      <td>2022-02-19</td>\n",
       "      <td>Montana</td>\n",
       "      <td>MT</td>\n",
       "    </tr>\n",
       "    <tr>\n",
       "      <th>16967</th>\n",
       "      <td>2022-02-19</td>\n",
       "      <td>South Carolina</td>\n",
       "      <td>7221610.0</td>\n",
       "      <td>9945075.0</td>\n",
       "      <td>3410404.0</td>\n",
       "      <td>55.54</td>\n",
       "      <td>140.26</td>\n",
       "      <td>2859563.0</td>\n",
       "      <td>66.24</td>\n",
       "      <td>193.16</td>\n",
       "      <td>4463.0</td>\n",
       "      <td>9548.0</td>\n",
       "      <td>1854.0</td>\n",
       "      <td>0.726</td>\n",
       "      <td>1083022.0</td>\n",
       "      <td>21.03</td>\n",
       "      <td>2022-02-19</td>\n",
       "      <td>South Carolina</td>\n",
       "      <td>SC</td>\n",
       "    </tr>\n",
       "    <tr>\n",
       "      <th>10503</th>\n",
       "      <td>2022-02-19</td>\n",
       "      <td>Missouri</td>\n",
       "      <td>8619706.0</td>\n",
       "      <td>11001305.0</td>\n",
       "      <td>4001013.0</td>\n",
       "      <td>54.94</td>\n",
       "      <td>140.44</td>\n",
       "      <td>3372143.0</td>\n",
       "      <td>65.19</td>\n",
       "      <td>179.25</td>\n",
       "      <td>4077.0</td>\n",
       "      <td>8015.0</td>\n",
       "      <td>1306.0</td>\n",
       "      <td>0.784</td>\n",
       "      <td>1366385.0</td>\n",
       "      <td>22.26</td>\n",
       "      <td>2022-02-19</td>\n",
       "      <td>Missouri</td>\n",
       "      <td>MO</td>\n",
       "    </tr>\n",
       "    <tr>\n",
       "      <th>14139</th>\n",
       "      <td>2022-02-19</td>\n",
       "      <td>North Dakota</td>\n",
       "      <td>1062039.0</td>\n",
       "      <td>1310100.0</td>\n",
       "      <td>490607.0</td>\n",
       "      <td>54.35</td>\n",
       "      <td>139.36</td>\n",
       "      <td>414179.0</td>\n",
       "      <td>64.38</td>\n",
       "      <td>171.92</td>\n",
       "      <td>572.0</td>\n",
       "      <td>646.0</td>\n",
       "      <td>848.0</td>\n",
       "      <td>0.811</td>\n",
       "      <td>166298.0</td>\n",
       "      <td>21.82</td>\n",
       "      <td>2022-02-19</td>\n",
       "      <td>North Dakota</td>\n",
       "      <td>ND</td>\n",
       "    </tr>\n",
       "    <tr>\n",
       "      <th>6059</th>\n",
       "      <td>2022-02-19</td>\n",
       "      <td>Indiana</td>\n",
       "      <td>9158776.0</td>\n",
       "      <td>12514980.0</td>\n",
       "      <td>4073314.0</td>\n",
       "      <td>53.87</td>\n",
       "      <td>136.04</td>\n",
       "      <td>3626718.0</td>\n",
       "      <td>60.50</td>\n",
       "      <td>185.90</td>\n",
       "      <td>6755.0</td>\n",
       "      <td>7189.0</td>\n",
       "      <td>1068.0</td>\n",
       "      <td>0.732</td>\n",
       "      <td>1583727.0</td>\n",
       "      <td>23.52</td>\n",
       "      <td>2022-02-19</td>\n",
       "      <td>Indiana</td>\n",
       "      <td>IN</td>\n",
       "    </tr>\n",
       "    <tr>\n",
       "      <th>4443</th>\n",
       "      <td>2022-02-19</td>\n",
       "      <td>Georgia</td>\n",
       "      <td>14281388.0</td>\n",
       "      <td>20519795.0</td>\n",
       "      <td>6812247.0</td>\n",
       "      <td>53.42</td>\n",
       "      <td>134.51</td>\n",
       "      <td>5671974.0</td>\n",
       "      <td>64.16</td>\n",
       "      <td>193.27</td>\n",
       "      <td>10276.0</td>\n",
       "      <td>17706.0</td>\n",
       "      <td>1668.0</td>\n",
       "      <td>0.696</td>\n",
       "      <td>1967014.0</td>\n",
       "      <td>18.53</td>\n",
       "      <td>2022-02-19</td>\n",
       "      <td>Georgia</td>\n",
       "      <td>GA</td>\n",
       "    </tr>\n",
       "    <tr>\n",
       "      <th>17775</th>\n",
       "      <td>2022-02-19</td>\n",
       "      <td>Tennessee</td>\n",
       "      <td>9551129.0</td>\n",
       "      <td>12186030.0</td>\n",
       "      <td>4180275.0</td>\n",
       "      <td>53.40</td>\n",
       "      <td>139.86</td>\n",
       "      <td>3646584.0</td>\n",
       "      <td>61.21</td>\n",
       "      <td>178.44</td>\n",
       "      <td>5968.0</td>\n",
       "      <td>16405.0</td>\n",
       "      <td>2402.0</td>\n",
       "      <td>0.784</td>\n",
       "      <td>1529958.0</td>\n",
       "      <td>22.40</td>\n",
       "      <td>2022-02-19</td>\n",
       "      <td>Tennessee</td>\n",
       "      <td>TN</td>\n",
       "    </tr>\n",
       "    <tr>\n",
       "      <th>1615</th>\n",
       "      <td>2022-02-19</td>\n",
       "      <td>Arkansas</td>\n",
       "      <td>4071732.0</td>\n",
       "      <td>5838520.0</td>\n",
       "      <td>1979222.0</td>\n",
       "      <td>53.34</td>\n",
       "      <td>134.92</td>\n",
       "      <td>1609584.0</td>\n",
       "      <td>65.58</td>\n",
       "      <td>193.47</td>\n",
       "      <td>10875.0</td>\n",
       "      <td>4263.0</td>\n",
       "      <td>1413.0</td>\n",
       "      <td>0.697</td>\n",
       "      <td>602778.0</td>\n",
       "      <td>19.97</td>\n",
       "      <td>2022-02-19</td>\n",
       "      <td>Arkansas</td>\n",
       "      <td>AR</td>\n",
       "    </tr>\n",
       "    <tr>\n",
       "      <th>5251</th>\n",
       "      <td>2022-02-19</td>\n",
       "      <td>Idaho</td>\n",
       "      <td>2352118.0</td>\n",
       "      <td>3199490.0</td>\n",
       "      <td>1074614.0</td>\n",
       "      <td>52.89</td>\n",
       "      <td>131.62</td>\n",
       "      <td>945244.0</td>\n",
       "      <td>60.13</td>\n",
       "      <td>179.04</td>\n",
       "      <td>1675.0</td>\n",
       "      <td>1899.0</td>\n",
       "      <td>1063.0</td>\n",
       "      <td>0.735</td>\n",
       "      <td>383152.0</td>\n",
       "      <td>21.44</td>\n",
       "      <td>2022-02-19</td>\n",
       "      <td>Idaho</td>\n",
       "      <td>ID</td>\n",
       "    </tr>\n",
       "    <tr>\n",
       "      <th>7675</th>\n",
       "      <td>2022-02-19</td>\n",
       "      <td>Louisiana</td>\n",
       "      <td>6033960.0</td>\n",
       "      <td>7866490.0</td>\n",
       "      <td>2790163.0</td>\n",
       "      <td>52.41</td>\n",
       "      <td>129.80</td>\n",
       "      <td>2436341.0</td>\n",
       "      <td>60.02</td>\n",
       "      <td>169.22</td>\n",
       "      <td>4183.0</td>\n",
       "      <td>5174.0</td>\n",
       "      <td>1113.0</td>\n",
       "      <td>0.767</td>\n",
       "      <td>915991.0</td>\n",
       "      <td>19.70</td>\n",
       "      <td>2022-02-19</td>\n",
       "      <td>Louisiana</td>\n",
       "      <td>LA</td>\n",
       "    </tr>\n",
       "    <tr>\n",
       "      <th>10099</th>\n",
       "      <td>2022-02-19</td>\n",
       "      <td>Mississippi</td>\n",
       "      <td>3746059.0</td>\n",
       "      <td>5255235.0</td>\n",
       "      <td>1745434.0</td>\n",
       "      <td>50.74</td>\n",
       "      <td>125.87</td>\n",
       "      <td>1510183.0</td>\n",
       "      <td>58.65</td>\n",
       "      <td>176.58</td>\n",
       "      <td>2536.0</td>\n",
       "      <td>3959.0</td>\n",
       "      <td>1330.0</td>\n",
       "      <td>0.713</td>\n",
       "      <td>536602.0</td>\n",
       "      <td>18.03</td>\n",
       "      <td>2022-02-19</td>\n",
       "      <td>Mississippi</td>\n",
       "      <td>MS</td>\n",
       "    </tr>\n",
       "    <tr>\n",
       "      <th>21007</th>\n",
       "      <td>2022-02-19</td>\n",
       "      <td>Wyoming</td>\n",
       "      <td>728393.0</td>\n",
       "      <td>928985.0</td>\n",
       "      <td>334878.0</td>\n",
       "      <td>50.45</td>\n",
       "      <td>125.85</td>\n",
       "      <td>292007.0</td>\n",
       "      <td>57.86</td>\n",
       "      <td>160.51</td>\n",
       "      <td>454.0</td>\n",
       "      <td>751.0</td>\n",
       "      <td>1298.0</td>\n",
       "      <td>0.784</td>\n",
       "      <td>120790.0</td>\n",
       "      <td>20.87</td>\n",
       "      <td>2022-02-19</td>\n",
       "      <td>Wyoming</td>\n",
       "      <td>WY</td>\n",
       "    </tr>\n",
       "    <tr>\n",
       "      <th>403</th>\n",
       "      <td>2022-02-19</td>\n",
       "      <td>Alabama</td>\n",
       "      <td>6068347.0</td>\n",
       "      <td>9207240.0</td>\n",
       "      <td>3026281.0</td>\n",
       "      <td>50.04</td>\n",
       "      <td>123.76</td>\n",
       "      <td>2453426.0</td>\n",
       "      <td>61.72</td>\n",
       "      <td>187.78</td>\n",
       "      <td>1121.0</td>\n",
       "      <td>6894.0</td>\n",
       "      <td>1406.0</td>\n",
       "      <td>0.659</td>\n",
       "      <td>831882.0</td>\n",
       "      <td>16.97</td>\n",
       "      <td>2022-02-19</td>\n",
       "      <td>Alabama</td>\n",
       "      <td>AL</td>\n",
       "    </tr>\n",
       "  </tbody>\n",
       "</table>\n",
       "</div>"
      ],
      "text/plain": [
       "             date              location  total_vaccinations  \\\n",
       "16159  2022-02-19           Puerto Rico           6820071.0   \n",
       "16563  2022-02-19          Rhode Island           2120494.0   \n",
       "18987  2022-02-19               Vermont           1341480.0   \n",
       "8079   2022-02-19                 Maine           2694083.0   \n",
       "2827   2022-02-19           Connecticut           7249762.0   \n",
       "8887   2022-02-19         Massachusetts          14191945.0   \n",
       "4847   2022-02-19                Hawaii           2789550.0   \n",
       "13331  2022-02-19              New York          37573510.0   \n",
       "12523  2022-02-19            New Jersey          16438280.0   \n",
       "8483   2022-02-19              Maryland          11440813.0   \n",
       "19391  2022-02-19              Virginia          15801583.0   \n",
       "19795  2022-02-19            Washington          13768068.0   \n",
       "3635   2022-02-19  District of Columbia           1407104.0   \n",
       "2019   2022-02-19            California          71044784.0   \n",
       "12119  2022-02-19         New Hampshire           2616383.0   \n",
       "12927  2022-02-19            New Mexico           3742875.0   \n",
       "2423   2022-02-19              Colorado          10271794.0   \n",
       "15351  2022-02-19                Oregon           7407757.0   \n",
       "9695   2022-02-19             Minnesota           9853584.0   \n",
       "3231   2022-02-19              Delaware           1723629.0   \n",
       "5655   2022-02-19              Illinois          21636884.0   \n",
       "15755  2022-02-19          Pennsylvania          21965985.0   \n",
       "4039   2022-02-19               Florida          35955869.0   \n",
       "20603  2022-02-19             Wisconsin           9822252.0   \n",
       "18583  2022-02-19                  Utah           5045161.0   \n",
       "11311  2022-02-19              Nebraska           3068726.0   \n",
       "6463   2022-02-19                  Iowa           4907301.0   \n",
       "807    2022-02-19                Alaska           1090981.0   \n",
       "6867   2022-02-19                Kansas           4415444.0   \n",
       "1211   2022-02-19               Arizona          11466594.0   \n",
       "18179  2022-02-19                 Texas          44077433.0   \n",
       "17371  2022-02-19          South Dakota           1349798.0   \n",
       "11715  2022-02-19                Nevada           4688615.0   \n",
       "13735  2022-02-19        North Carolina          16040239.0   \n",
       "9291   2022-02-19              Michigan          15086338.0   \n",
       "14543  2022-02-19                  Ohio          17152418.0   \n",
       "20199  2022-02-19         West Virginia           2626426.0   \n",
       "7271   2022-02-19              Kentucky           6295671.0   \n",
       "14947  2022-02-19              Oklahoma           5698405.0   \n",
       "10907  2022-02-19               Montana           1530012.0   \n",
       "16967  2022-02-19        South Carolina           7221610.0   \n",
       "10503  2022-02-19              Missouri           8619706.0   \n",
       "14139  2022-02-19          North Dakota           1062039.0   \n",
       "6059   2022-02-19               Indiana           9158776.0   \n",
       "4443   2022-02-19               Georgia          14281388.0   \n",
       "17775  2022-02-19             Tennessee           9551129.0   \n",
       "1615   2022-02-19              Arkansas           4071732.0   \n",
       "5251   2022-02-19                 Idaho           2352118.0   \n",
       "7675   2022-02-19             Louisiana           6033960.0   \n",
       "10099  2022-02-19           Mississippi           3746059.0   \n",
       "21007  2022-02-19               Wyoming            728393.0   \n",
       "403    2022-02-19               Alabama           6068347.0   \n",
       "\n",
       "       total_distributed  people_vaccinated  \\\n",
       "16159          7264190.0          3028205.0   \n",
       "16563          2484625.0          1016090.0   \n",
       "18987          1689750.0           578725.0   \n",
       "8079           3175550.0          1198247.0   \n",
       "2827           8265235.0          3337878.0   \n",
       "8887          16095890.0          6629739.0   \n",
       "4847           3308180.0          1217519.0   \n",
       "13331         43700145.0         17235231.0   \n",
       "12523         20831835.0          7873976.0   \n",
       "8483          14931710.0          5114684.0   \n",
       "19391         18653105.0          7191538.0   \n",
       "19795         16755495.0          6055165.0   \n",
       "3635           1762305.0           668652.0   \n",
       "2019          85497625.0         32212960.0   \n",
       "12119          3256030.0          1461108.0   \n",
       "12927          4227345.0          1795147.0   \n",
       "2423          11800575.0          4501160.0   \n",
       "15351          9486185.0          3238459.0   \n",
       "9695          11914970.0          4183752.0   \n",
       "3231           2211055.0           793346.0   \n",
       "5655          25990855.0          9600247.0   \n",
       "15755         28672425.0         10626942.0   \n",
       "4039          45399045.0         16717084.0   \n",
       "20603         11027045.0          4129254.0   \n",
       "18583          5957750.0          2278593.0   \n",
       "11311          3752010.0          1339221.0   \n",
       "6463           6211455.0          2118546.0   \n",
       "807            1430265.0           500156.0   \n",
       "6867           5717315.0          2133369.0   \n",
       "1211          13979320.0          5180890.0   \n",
       "18179         58558295.0         20473981.0   \n",
       "17371          1754565.0           661006.0   \n",
       "11715          5641410.0          2272816.0   \n",
       "13735         20744900.0          8596653.0   \n",
       "9291          19906730.0          6576803.0   \n",
       "14543         21847955.0          7334670.0   \n",
       "20199          3829685.0          1147923.0   \n",
       "7271           8332475.0          2911535.0   \n",
       "14947          6953230.0          2762682.0   \n",
       "10907          1872295.0           687924.0   \n",
       "16967          9945075.0          3410404.0   \n",
       "10503         11001305.0          4001013.0   \n",
       "14139          1310100.0           490607.0   \n",
       "6059          12514980.0          4073314.0   \n",
       "4443          20519795.0          6812247.0   \n",
       "17775         12186030.0          4180275.0   \n",
       "1615           5838520.0          1979222.0   \n",
       "5251           3199490.0          1074614.0   \n",
       "7675           7866490.0          2790163.0   \n",
       "10099          5255235.0          1745434.0   \n",
       "21007           928985.0           334878.0   \n",
       "403            9207240.0          3026281.0   \n",
       "\n",
       "       people_fully_vaccinated_per_hundred  total_vaccinations_per_hundred  \\\n",
       "16159                                80.84                          213.55   \n",
       "16563                                80.33                          200.17   \n",
       "18987                                80.00                          214.98   \n",
       "8079                                 78.22                          200.42   \n",
       "2827                                 77.54                          203.34   \n",
       "8887                                 77.42                          205.90   \n",
       "4847                                 76.94                          197.02   \n",
       "13331                                75.22                          193.14   \n",
       "12523                                73.95                          185.07   \n",
       "8483                                 73.73                          189.24   \n",
       "19391                                71.73                          185.13   \n",
       "19795                                71.17                          180.80   \n",
       "3635                                 71.12                          199.38   \n",
       "2019                                 70.13                          179.80   \n",
       "12119                                69.64                          192.42   \n",
       "12927                                69.34                          178.50   \n",
       "2423                                 69.02                          178.37   \n",
       "15351                                68.49                          175.63   \n",
       "9695                                 67.92                          174.72   \n",
       "3231                                 67.28                          177.01   \n",
       "5655                                 67.10                          170.75   \n",
       "15755                                66.67                          171.58   \n",
       "4039                                 65.73                          167.41   \n",
       "20603                                64.37                          168.70   \n",
       "18583                                63.09                          157.37   \n",
       "11311                                62.30                          158.64   \n",
       "6463                                 60.94                          155.54   \n",
       "807                                  60.80                          149.13   \n",
       "6867                                 59.91                          151.56   \n",
       "1211                                 59.79                          157.54   \n",
       "18179                                59.75                          152.01   \n",
       "17371                                59.66                          152.58   \n",
       "11715                                59.46                          152.22   \n",
       "13735                                59.13                          152.94   \n",
       "9291                                 58.98                          151.06   \n",
       "14543                                57.42                          146.74   \n",
       "20199                                56.64                          146.55   \n",
       "7271                                 56.30                          140.92   \n",
       "14947                                55.84                          144.01   \n",
       "10907                                55.79                          143.16   \n",
       "16967                                55.54                          140.26   \n",
       "10503                                54.94                          140.44   \n",
       "14139                                54.35                          139.36   \n",
       "6059                                 53.87                          136.04   \n",
       "4443                                 53.42                          134.51   \n",
       "17775                                53.40                          139.86   \n",
       "1615                                 53.34                          134.92   \n",
       "5251                                 52.89                          131.62   \n",
       "7675                                 52.41                          129.80   \n",
       "10099                                50.74                          125.87   \n",
       "21007                                50.45                          125.85   \n",
       "403                                  50.04                          123.76   \n",
       "\n",
       "       people_fully_vaccinated  people_vaccinated_per_hundred  \\\n",
       "16159                2581754.0                          94.82   \n",
       "16563                 850948.0                          95.92   \n",
       "18987                 499195.0                          92.75   \n",
       "8079                 1051490.0                          89.14   \n",
       "2827                 2764670.0                          93.62   \n",
       "8887                 5336437.0                          96.19   \n",
       "4847                 1089305.0                          85.99   \n",
       "13331               14632320.0                          88.60   \n",
       "12523                6568615.0                          88.65   \n",
       "8483                 4457347.0                          84.60   \n",
       "19391                6122124.0                          84.25   \n",
       "19795                5419707.0                          79.52   \n",
       "3635                  501905.0                          94.74   \n",
       "2019                27708341.0                          81.53   \n",
       "12119                 946944.0                         107.46   \n",
       "12927                1454046.0                          85.61   \n",
       "2423                 3974464.0                          78.16   \n",
       "15351                2888724.0                          76.78   \n",
       "9695                 3830382.0                          74.18   \n",
       "3231                  655127.0                          81.47   \n",
       "5655                 8503109.0                          75.76   \n",
       "15755                8535603.0                          83.01   \n",
       "4039                14118218.0                          77.83   \n",
       "20603                3747663.0                          70.92   \n",
       "18583                2022786.0                          71.07   \n",
       "11311                1205071.0                          69.23   \n",
       "6463                 1922643.0                          67.15   \n",
       "807                   444763.0                          68.37   \n",
       "6867                 1745263.0                          73.23   \n",
       "1211                 4352169.0                          71.18   \n",
       "18179               17323697.0                          70.61   \n",
       "17371                 527824.0                          74.72   \n",
       "11715                1831584.0                          73.79   \n",
       "13735                6201249.0                          81.97   \n",
       "9291                 5889772.0                          65.85   \n",
       "14543                6712161.0                          62.75   \n",
       "20199                1015030.0                          64.05   \n",
       "7271                 2515316.0                          65.17   \n",
       "14947                2209577.0                          69.82   \n",
       "10907                 596255.0                          64.37   \n",
       "16967                2859563.0                          66.24   \n",
       "10503                3372143.0                          65.19   \n",
       "14139                 414179.0                          64.38   \n",
       "6059                 3626718.0                          60.50   \n",
       "4443                 5671974.0                          64.16   \n",
       "17775                3646584.0                          61.21   \n",
       "1615                 1609584.0                          65.58   \n",
       "5251                  945244.0                          60.13   \n",
       "7675                 2436341.0                          60.02   \n",
       "10099                1510183.0                          58.65   \n",
       "21007                 292007.0                          57.86   \n",
       "403                  2453426.0                          61.72   \n",
       "\n",
       "       distributed_per_hundred  daily_vaccinations_raw  daily_vaccinations  \\\n",
       "16159                   227.45                    54.0             10408.0   \n",
       "16563                   234.54                  1730.0              2131.0   \n",
       "18987                   270.80                   889.0               906.0   \n",
       "8079                    236.24                  1895.0              1977.0   \n",
       "2827                    231.83                  5514.0              6349.0   \n",
       "8887                    233.53                 14531.0             12920.0   \n",
       "4847                    233.65                  2700.0              4927.0   \n",
       "13331                   224.64                 59901.0             44539.0   \n",
       "12523                   234.53                 19035.0             16481.0   \n",
       "8483                    246.98                 10120.0             14066.0   \n",
       "19391                   218.54                  9861.0             31033.0   \n",
       "19795                   220.04                 12124.0             21810.0   \n",
       "3635                    249.71                  1432.0              2350.0   \n",
       "2019                    216.38                 92531.0             94936.0   \n",
       "12119                   239.46                   679.0              2814.0   \n",
       "12927                   201.61                  3041.0              5248.0   \n",
       "2423                    204.92                  8880.0             14485.0   \n",
       "15351                   224.91                  7218.0              6366.0   \n",
       "9695                    211.27                  8122.0              7368.0   \n",
       "3231                    227.06                  1805.0              2006.0   \n",
       "5655                    205.11                 30022.0             21943.0   \n",
       "15755                   223.97                 15737.0             15117.0   \n",
       "4039                    211.38                 20691.0             36289.0   \n",
       "20603                   189.39                  7681.0              6836.0   \n",
       "18583                   185.83                  4491.0              8877.0   \n",
       "11311                   193.96                  2624.0              3269.0   \n",
       "6463                    196.87                  2879.0              3038.0   \n",
       "807                     195.51                   691.0              2503.0   \n",
       "6867                    196.25                  3546.0              6285.0   \n",
       "1211                    192.06                 11555.0             14420.0   \n",
       "18179                   201.95                 44615.0             56022.0   \n",
       "17371                   198.33                   891.0              1188.0   \n",
       "11715                   183.15                  3097.0              6149.0   \n",
       "13735                   197.79                 10618.0             17558.0   \n",
       "9291                    199.33                 10832.0             20195.0   \n",
       "14543                   186.91                 12122.0             13235.0   \n",
       "20199                   213.69                  1551.0              1688.0   \n",
       "7271                    186.51                  9427.0              6377.0   \n",
       "14947                   175.72                  3757.0              6376.0   \n",
       "10907                   175.18                  1111.0              1405.0   \n",
       "16967                   193.16                  4463.0              9548.0   \n",
       "10503                   179.25                  4077.0              8015.0   \n",
       "14139                   171.92                   572.0               646.0   \n",
       "6059                    185.90                  6755.0              7189.0   \n",
       "4443                    193.27                 10276.0             17706.0   \n",
       "17775                   178.44                  5968.0             16405.0   \n",
       "1615                    193.47                 10875.0              4263.0   \n",
       "5251                    179.04                  1675.0              1899.0   \n",
       "7675                    169.22                  4183.0              5174.0   \n",
       "10099                   176.58                  2536.0              3959.0   \n",
       "21007                   160.51                   454.0               751.0   \n",
       "403                     187.78                  1121.0              6894.0   \n",
       "\n",
       "       daily_vaccinations_per_million  share_doses_used  total_boosters  \\\n",
       "16159                          3259.0             0.939       1289578.0   \n",
       "16563                          2012.0             0.853        433591.0   \n",
       "18987                          1452.0             0.794        290407.0   \n",
       "8079                           1471.0             0.848        560897.0   \n",
       "2827                           1781.0             0.877       1350791.0   \n",
       "8887                           1875.0             0.882       2612718.0   \n",
       "4847                           3480.0             0.843        532777.0   \n",
       "13331                          2290.0             0.860       6303525.0   \n",
       "12523                          1856.0             0.789       2909139.0   \n",
       "8483                           2327.0             0.766       2146138.0   \n",
       "19391                          3636.0             0.847       2770876.0   \n",
       "19795                          2864.0             0.822       2676649.0   \n",
       "3635                           3330.0             0.798        171938.0   \n",
       "2019                           2403.0             0.831      13144245.0   \n",
       "12119                          2070.0             0.804        196452.0   \n",
       "12927                          2503.0             0.885        689989.0   \n",
       "2423                           2515.0             0.870       1967941.0   \n",
       "15351                          1509.0             0.781       1466741.0   \n",
       "9695                           1306.0             0.827       2125396.0   \n",
       "3231                           2060.0             0.780        284502.0   \n",
       "5655                           1732.0             0.832       4145800.0   \n",
       "15755                          1181.0             0.766       3483781.0   \n",
       "4039                           1690.0             0.792       5370757.0   \n",
       "20603                          1174.0             0.891       2023899.0   \n",
       "18583                          2769.0             0.847        858758.0   \n",
       "11311                          1690.0             0.818        577702.0   \n",
       "6463                            963.0             0.790        986416.0   \n",
       "807                            3422.0             0.763        180744.0   \n",
       "6867                           2157.0             0.772        713302.0   \n",
       "1211                           1981.0             0.820       1701268.0   \n",
       "18179                          1932.0             0.753       6138740.0   \n",
       "17371                          1343.0             0.769        209912.0   \n",
       "11715                          1996.0             0.831        673329.0   \n",
       "13735                          1674.0             0.773       1544360.0   \n",
       "9291                           2022.0             0.758       2985640.0   \n",
       "14543                          1132.0             0.785       3362159.0   \n",
       "20199                           942.0             0.686        445205.0   \n",
       "7271                           1427.0             0.756       1068350.0   \n",
       "14947                          1611.0             0.820        794728.0   \n",
       "10907                          1315.0             0.817        274418.0   \n",
       "16967                          1854.0             0.726       1083022.0   \n",
       "10503                          1306.0             0.784       1366385.0   \n",
       "14139                           848.0             0.811        166298.0   \n",
       "6059                           1068.0             0.732       1583727.0   \n",
       "4443                           1668.0             0.696       1967014.0   \n",
       "17775                          2402.0             0.784       1529958.0   \n",
       "1615                           1413.0             0.697        602778.0   \n",
       "5251                           1063.0             0.735        383152.0   \n",
       "7675                           1113.0             0.767        915991.0   \n",
       "10099                          1330.0             0.713        536602.0   \n",
       "21007                          1298.0             0.784        120790.0   \n",
       "403                            1406.0             0.659        831882.0   \n",
       "\n",
       "       total_boosters_per_hundred date_modified             usa_state  \\\n",
       "16159                       40.38    2022-02-19           Puerto Rico   \n",
       "16563                       40.93    2022-02-19          Rhode Island   \n",
       "18987                       46.54    2022-02-19               Vermont   \n",
       "8079                        41.73    2022-02-19                 Maine   \n",
       "2827                        37.89    2022-02-19           Connecticut   \n",
       "8887                        37.91    2022-02-19         Massachusetts   \n",
       "4847                        37.63    2022-02-19                Hawaii   \n",
       "13331                       32.40    2022-02-19              New York   \n",
       "12523                       32.75    2022-02-19            New Jersey   \n",
       "8483                        35.50    2022-02-19              Maryland   \n",
       "19391                       32.46    2022-02-19              Virginia   \n",
       "19795                       35.15    2022-02-19            Washington   \n",
       "3635                        24.36    2022-02-19  District of Columbia   \n",
       "2019                        33.27    2022-02-19            California   \n",
       "12119                       14.45    2022-02-19         New Hampshire   \n",
       "12927                       32.91    2022-02-19            New Mexico   \n",
       "2423                        34.17    2022-02-19              Colorado   \n",
       "15351                       34.78    2022-02-19                Oregon   \n",
       "9695                        37.69    2022-02-19             Minnesota   \n",
       "3231                        29.22    2022-02-19              Delaware   \n",
       "5655                        32.72    2022-02-19              Illinois   \n",
       "15755                       27.21    2022-02-19          Pennsylvania   \n",
       "4039                        25.01    2022-02-19               Florida   \n",
       "20603                       34.76    2022-02-19             Wisconsin   \n",
       "18583                       26.79    2022-02-19                  Utah   \n",
       "11311                       29.86    2022-02-19              Nebraska   \n",
       "6463                        31.26    2022-02-19                  Iowa   \n",
       "807                         24.71    2022-02-19                Alaska   \n",
       "6867                        24.48    2022-02-19                Kansas   \n",
       "1211                        23.37    2022-02-19               Arizona   \n",
       "18179                       21.17    2022-02-19                 Texas   \n",
       "17371                       23.73    2022-02-19          South Dakota   \n",
       "11715                       21.86    2022-02-19                Nevada   \n",
       "13735                       14.72    2022-02-19        North Carolina   \n",
       "9291                        29.90    2022-02-19              Michigan   \n",
       "14543                       28.76    2022-02-19                  Ohio   \n",
       "20199                       24.84    2022-02-19         West Virginia   \n",
       "7271                        23.91    2022-02-19              Kentucky   \n",
       "14947                       20.08    2022-02-19              Oklahoma   \n",
       "10907                       25.68    2022-02-19               Montana   \n",
       "16967                       21.03    2022-02-19        South Carolina   \n",
       "10503                       22.26    2022-02-19              Missouri   \n",
       "14139                       21.82    2022-02-19          North Dakota   \n",
       "6059                        23.52    2022-02-19               Indiana   \n",
       "4443                        18.53    2022-02-19               Georgia   \n",
       "17775                       22.40    2022-02-19             Tennessee   \n",
       "1615                        19.97    2022-02-19              Arkansas   \n",
       "5251                        21.44    2022-02-19                 Idaho   \n",
       "7675                        19.70    2022-02-19             Louisiana   \n",
       "10099                       18.03    2022-02-19           Mississippi   \n",
       "21007                       20.87    2022-02-19               Wyoming   \n",
       "403                         16.97    2022-02-19               Alabama   \n",
       "\n",
       "      usa_state_code  \n",
       "16159             PR  \n",
       "16563             RI  \n",
       "18987             VT  \n",
       "8079              ME  \n",
       "2827              CT  \n",
       "8887              MA  \n",
       "4847              HI  \n",
       "13331             NY  \n",
       "12523             NJ  \n",
       "8483              MD  \n",
       "19391             VA  \n",
       "19795             WA  \n",
       "3635              DC  \n",
       "2019              CA  \n",
       "12119             NH  \n",
       "12927             NM  \n",
       "2423              CO  \n",
       "15351             OR  \n",
       "9695              MN  \n",
       "3231              DE  \n",
       "5655              IL  \n",
       "15755             PA  \n",
       "4039              FL  \n",
       "20603             WI  \n",
       "18583             UT  \n",
       "11311             NE  \n",
       "6463              IA  \n",
       "807               AK  \n",
       "6867              KS  \n",
       "1211              AZ  \n",
       "18179             TX  \n",
       "17371             SD  \n",
       "11715             NV  \n",
       "13735             NC  \n",
       "9291              MI  \n",
       "14543             OH  \n",
       "20199             WV  \n",
       "7271              KY  \n",
       "14947             OK  \n",
       "10907             MT  \n",
       "16967             SC  \n",
       "10503             MO  \n",
       "14139             ND  \n",
       "6059              IN  \n",
       "4443              GA  \n",
       "17775             TN  \n",
       "1615              AR  \n",
       "5251              ID  \n",
       "7675              LA  \n",
       "10099             MS  \n",
       "21007             WY  \n",
       "403               AL  "
      ]
     },
     "execution_count": 18,
     "metadata": {},
     "output_type": "execute_result"
    }
   ],
   "source": [
    "df_us_covid19"
   ]
  },
  {
   "cell_type": "code",
   "execution_count": 24,
   "metadata": {},
   "outputs": [
    {
     "data": {
      "application/vnd.plotly.v1+json": {
       "config": {
        "plotlyServerURL": "https://plot.ly"
       },
       "data": [
        {
         "alignmentgroup": "True",
         "hovertemplate": "location=%{x}<br>people_fully_vaccinated_per_hundred=%{y}<extra></extra>",
         "legendgroup": "",
         "marker": {
          "color": "#636efa",
          "pattern": {
           "shape": ""
          }
         },
         "name": "",
         "offsetgroup": "",
         "orientation": "v",
         "showlegend": false,
         "textposition": "auto",
         "type": "bar",
         "x": [
          "Puerto Rico",
          "Rhode Island",
          "Vermont",
          "Maine",
          "Connecticut",
          "Massachusetts",
          "Hawaii",
          "New York",
          "New Jersey",
          "Maryland",
          "Virginia",
          "Washington",
          "District of Columbia",
          "California",
          "New Hampshire",
          "New Mexico",
          "Colorado",
          "Oregon",
          "Minnesota",
          "Delaware",
          "Illinois",
          "Pennsylvania",
          "Florida",
          "Wisconsin",
          "Utah",
          "Nebraska",
          "Iowa",
          "Alaska",
          "Kansas",
          "Arizona",
          "Texas",
          "South Dakota",
          "Nevada",
          "North Carolina",
          "Michigan",
          "Ohio",
          "West Virginia",
          "Kentucky",
          "Oklahoma",
          "Montana",
          "South Carolina",
          "Missouri",
          "North Dakota",
          "Indiana",
          "Georgia",
          "Tennessee",
          "Arkansas",
          "Idaho",
          "Louisiana",
          "Mississippi",
          "Wyoming",
          "Alabama"
         ],
         "xaxis": "x",
         "y": [
          80.84,
          80.33,
          80,
          78.22,
          77.54,
          77.42,
          76.94,
          75.22,
          73.95,
          73.73,
          71.73,
          71.17,
          71.12,
          70.13,
          69.64,
          69.34,
          69.02,
          68.49,
          67.92,
          67.28,
          67.1,
          66.67,
          65.73,
          64.37,
          63.09,
          62.3,
          60.94,
          60.8,
          59.91,
          59.79,
          59.75,
          59.66,
          59.46,
          59.13,
          58.98,
          57.42,
          56.64,
          56.3,
          55.84,
          55.79,
          55.54,
          54.94,
          54.35,
          53.87,
          53.42,
          53.4,
          53.34,
          52.89,
          52.41,
          50.74,
          50.45,
          50.04
         ],
         "yaxis": "y"
        }
       ],
       "layout": {
        "barmode": "relative",
        "legend": {
         "tracegroupgap": 0
        },
        "template": {
         "data": {
          "bar": [
           {
            "error_x": {
             "color": "#2a3f5f"
            },
            "error_y": {
             "color": "#2a3f5f"
            },
            "marker": {
             "line": {
              "color": "#E5ECF6",
              "width": 0.5
             },
             "pattern": {
              "fillmode": "overlay",
              "size": 10,
              "solidity": 0.2
             }
            },
            "type": "bar"
           }
          ],
          "barpolar": [
           {
            "marker": {
             "line": {
              "color": "#E5ECF6",
              "width": 0.5
             },
             "pattern": {
              "fillmode": "overlay",
              "size": 10,
              "solidity": 0.2
             }
            },
            "type": "barpolar"
           }
          ],
          "carpet": [
           {
            "aaxis": {
             "endlinecolor": "#2a3f5f",
             "gridcolor": "white",
             "linecolor": "white",
             "minorgridcolor": "white",
             "startlinecolor": "#2a3f5f"
            },
            "baxis": {
             "endlinecolor": "#2a3f5f",
             "gridcolor": "white",
             "linecolor": "white",
             "minorgridcolor": "white",
             "startlinecolor": "#2a3f5f"
            },
            "type": "carpet"
           }
          ],
          "choropleth": [
           {
            "colorbar": {
             "outlinewidth": 0,
             "ticks": ""
            },
            "type": "choropleth"
           }
          ],
          "contour": [
           {
            "colorbar": {
             "outlinewidth": 0,
             "ticks": ""
            },
            "colorscale": [
             [
              0,
              "#0d0887"
             ],
             [
              0.1111111111111111,
              "#46039f"
             ],
             [
              0.2222222222222222,
              "#7201a8"
             ],
             [
              0.3333333333333333,
              "#9c179e"
             ],
             [
              0.4444444444444444,
              "#bd3786"
             ],
             [
              0.5555555555555556,
              "#d8576b"
             ],
             [
              0.6666666666666666,
              "#ed7953"
             ],
             [
              0.7777777777777778,
              "#fb9f3a"
             ],
             [
              0.8888888888888888,
              "#fdca26"
             ],
             [
              1,
              "#f0f921"
             ]
            ],
            "type": "contour"
           }
          ],
          "contourcarpet": [
           {
            "colorbar": {
             "outlinewidth": 0,
             "ticks": ""
            },
            "type": "contourcarpet"
           }
          ],
          "heatmap": [
           {
            "colorbar": {
             "outlinewidth": 0,
             "ticks": ""
            },
            "colorscale": [
             [
              0,
              "#0d0887"
             ],
             [
              0.1111111111111111,
              "#46039f"
             ],
             [
              0.2222222222222222,
              "#7201a8"
             ],
             [
              0.3333333333333333,
              "#9c179e"
             ],
             [
              0.4444444444444444,
              "#bd3786"
             ],
             [
              0.5555555555555556,
              "#d8576b"
             ],
             [
              0.6666666666666666,
              "#ed7953"
             ],
             [
              0.7777777777777778,
              "#fb9f3a"
             ],
             [
              0.8888888888888888,
              "#fdca26"
             ],
             [
              1,
              "#f0f921"
             ]
            ],
            "type": "heatmap"
           }
          ],
          "heatmapgl": [
           {
            "colorbar": {
             "outlinewidth": 0,
             "ticks": ""
            },
            "colorscale": [
             [
              0,
              "#0d0887"
             ],
             [
              0.1111111111111111,
              "#46039f"
             ],
             [
              0.2222222222222222,
              "#7201a8"
             ],
             [
              0.3333333333333333,
              "#9c179e"
             ],
             [
              0.4444444444444444,
              "#bd3786"
             ],
             [
              0.5555555555555556,
              "#d8576b"
             ],
             [
              0.6666666666666666,
              "#ed7953"
             ],
             [
              0.7777777777777778,
              "#fb9f3a"
             ],
             [
              0.8888888888888888,
              "#fdca26"
             ],
             [
              1,
              "#f0f921"
             ]
            ],
            "type": "heatmapgl"
           }
          ],
          "histogram": [
           {
            "marker": {
             "pattern": {
              "fillmode": "overlay",
              "size": 10,
              "solidity": 0.2
             }
            },
            "type": "histogram"
           }
          ],
          "histogram2d": [
           {
            "colorbar": {
             "outlinewidth": 0,
             "ticks": ""
            },
            "colorscale": [
             [
              0,
              "#0d0887"
             ],
             [
              0.1111111111111111,
              "#46039f"
             ],
             [
              0.2222222222222222,
              "#7201a8"
             ],
             [
              0.3333333333333333,
              "#9c179e"
             ],
             [
              0.4444444444444444,
              "#bd3786"
             ],
             [
              0.5555555555555556,
              "#d8576b"
             ],
             [
              0.6666666666666666,
              "#ed7953"
             ],
             [
              0.7777777777777778,
              "#fb9f3a"
             ],
             [
              0.8888888888888888,
              "#fdca26"
             ],
             [
              1,
              "#f0f921"
             ]
            ],
            "type": "histogram2d"
           }
          ],
          "histogram2dcontour": [
           {
            "colorbar": {
             "outlinewidth": 0,
             "ticks": ""
            },
            "colorscale": [
             [
              0,
              "#0d0887"
             ],
             [
              0.1111111111111111,
              "#46039f"
             ],
             [
              0.2222222222222222,
              "#7201a8"
             ],
             [
              0.3333333333333333,
              "#9c179e"
             ],
             [
              0.4444444444444444,
              "#bd3786"
             ],
             [
              0.5555555555555556,
              "#d8576b"
             ],
             [
              0.6666666666666666,
              "#ed7953"
             ],
             [
              0.7777777777777778,
              "#fb9f3a"
             ],
             [
              0.8888888888888888,
              "#fdca26"
             ],
             [
              1,
              "#f0f921"
             ]
            ],
            "type": "histogram2dcontour"
           }
          ],
          "mesh3d": [
           {
            "colorbar": {
             "outlinewidth": 0,
             "ticks": ""
            },
            "type": "mesh3d"
           }
          ],
          "parcoords": [
           {
            "line": {
             "colorbar": {
              "outlinewidth": 0,
              "ticks": ""
             }
            },
            "type": "parcoords"
           }
          ],
          "pie": [
           {
            "automargin": true,
            "type": "pie"
           }
          ],
          "scatter": [
           {
            "fillpattern": {
             "fillmode": "overlay",
             "size": 10,
             "solidity": 0.2
            },
            "type": "scatter"
           }
          ],
          "scatter3d": [
           {
            "line": {
             "colorbar": {
              "outlinewidth": 0,
              "ticks": ""
             }
            },
            "marker": {
             "colorbar": {
              "outlinewidth": 0,
              "ticks": ""
             }
            },
            "type": "scatter3d"
           }
          ],
          "scattercarpet": [
           {
            "marker": {
             "colorbar": {
              "outlinewidth": 0,
              "ticks": ""
             }
            },
            "type": "scattercarpet"
           }
          ],
          "scattergeo": [
           {
            "marker": {
             "colorbar": {
              "outlinewidth": 0,
              "ticks": ""
             }
            },
            "type": "scattergeo"
           }
          ],
          "scattergl": [
           {
            "marker": {
             "colorbar": {
              "outlinewidth": 0,
              "ticks": ""
             }
            },
            "type": "scattergl"
           }
          ],
          "scattermapbox": [
           {
            "marker": {
             "colorbar": {
              "outlinewidth": 0,
              "ticks": ""
             }
            },
            "type": "scattermapbox"
           }
          ],
          "scatterpolar": [
           {
            "marker": {
             "colorbar": {
              "outlinewidth": 0,
              "ticks": ""
             }
            },
            "type": "scatterpolar"
           }
          ],
          "scatterpolargl": [
           {
            "marker": {
             "colorbar": {
              "outlinewidth": 0,
              "ticks": ""
             }
            },
            "type": "scatterpolargl"
           }
          ],
          "scatterternary": [
           {
            "marker": {
             "colorbar": {
              "outlinewidth": 0,
              "ticks": ""
             }
            },
            "type": "scatterternary"
           }
          ],
          "surface": [
           {
            "colorbar": {
             "outlinewidth": 0,
             "ticks": ""
            },
            "colorscale": [
             [
              0,
              "#0d0887"
             ],
             [
              0.1111111111111111,
              "#46039f"
             ],
             [
              0.2222222222222222,
              "#7201a8"
             ],
             [
              0.3333333333333333,
              "#9c179e"
             ],
             [
              0.4444444444444444,
              "#bd3786"
             ],
             [
              0.5555555555555556,
              "#d8576b"
             ],
             [
              0.6666666666666666,
              "#ed7953"
             ],
             [
              0.7777777777777778,
              "#fb9f3a"
             ],
             [
              0.8888888888888888,
              "#fdca26"
             ],
             [
              1,
              "#f0f921"
             ]
            ],
            "type": "surface"
           }
          ],
          "table": [
           {
            "cells": {
             "fill": {
              "color": "#EBF0F8"
             },
             "line": {
              "color": "white"
             }
            },
            "header": {
             "fill": {
              "color": "#C8D4E3"
             },
             "line": {
              "color": "white"
             }
            },
            "type": "table"
           }
          ]
         },
         "layout": {
          "annotationdefaults": {
           "arrowcolor": "#2a3f5f",
           "arrowhead": 0,
           "arrowwidth": 1
          },
          "autotypenumbers": "strict",
          "coloraxis": {
           "colorbar": {
            "outlinewidth": 0,
            "ticks": ""
           }
          },
          "colorscale": {
           "diverging": [
            [
             0,
             "#8e0152"
            ],
            [
             0.1,
             "#c51b7d"
            ],
            [
             0.2,
             "#de77ae"
            ],
            [
             0.3,
             "#f1b6da"
            ],
            [
             0.4,
             "#fde0ef"
            ],
            [
             0.5,
             "#f7f7f7"
            ],
            [
             0.6,
             "#e6f5d0"
            ],
            [
             0.7,
             "#b8e186"
            ],
            [
             0.8,
             "#7fbc41"
            ],
            [
             0.9,
             "#4d9221"
            ],
            [
             1,
             "#276419"
            ]
           ],
           "sequential": [
            [
             0,
             "#0d0887"
            ],
            [
             0.1111111111111111,
             "#46039f"
            ],
            [
             0.2222222222222222,
             "#7201a8"
            ],
            [
             0.3333333333333333,
             "#9c179e"
            ],
            [
             0.4444444444444444,
             "#bd3786"
            ],
            [
             0.5555555555555556,
             "#d8576b"
            ],
            [
             0.6666666666666666,
             "#ed7953"
            ],
            [
             0.7777777777777778,
             "#fb9f3a"
            ],
            [
             0.8888888888888888,
             "#fdca26"
            ],
            [
             1,
             "#f0f921"
            ]
           ],
           "sequentialminus": [
            [
             0,
             "#0d0887"
            ],
            [
             0.1111111111111111,
             "#46039f"
            ],
            [
             0.2222222222222222,
             "#7201a8"
            ],
            [
             0.3333333333333333,
             "#9c179e"
            ],
            [
             0.4444444444444444,
             "#bd3786"
            ],
            [
             0.5555555555555556,
             "#d8576b"
            ],
            [
             0.6666666666666666,
             "#ed7953"
            ],
            [
             0.7777777777777778,
             "#fb9f3a"
            ],
            [
             0.8888888888888888,
             "#fdca26"
            ],
            [
             1,
             "#f0f921"
            ]
           ]
          },
          "colorway": [
           "#636efa",
           "#EF553B",
           "#00cc96",
           "#ab63fa",
           "#FFA15A",
           "#19d3f3",
           "#FF6692",
           "#B6E880",
           "#FF97FF",
           "#FECB52"
          ],
          "font": {
           "color": "#2a3f5f"
          },
          "geo": {
           "bgcolor": "white",
           "lakecolor": "white",
           "landcolor": "#E5ECF6",
           "showlakes": true,
           "showland": true,
           "subunitcolor": "white"
          },
          "hoverlabel": {
           "align": "left"
          },
          "hovermode": "closest",
          "mapbox": {
           "style": "light"
          },
          "paper_bgcolor": "white",
          "plot_bgcolor": "#E5ECF6",
          "polar": {
           "angularaxis": {
            "gridcolor": "white",
            "linecolor": "white",
            "ticks": ""
           },
           "bgcolor": "#E5ECF6",
           "radialaxis": {
            "gridcolor": "white",
            "linecolor": "white",
            "ticks": ""
           }
          },
          "scene": {
           "xaxis": {
            "backgroundcolor": "#E5ECF6",
            "gridcolor": "white",
            "gridwidth": 2,
            "linecolor": "white",
            "showbackground": true,
            "ticks": "",
            "zerolinecolor": "white"
           },
           "yaxis": {
            "backgroundcolor": "#E5ECF6",
            "gridcolor": "white",
            "gridwidth": 2,
            "linecolor": "white",
            "showbackground": true,
            "ticks": "",
            "zerolinecolor": "white"
           },
           "zaxis": {
            "backgroundcolor": "#E5ECF6",
            "gridcolor": "white",
            "gridwidth": 2,
            "linecolor": "white",
            "showbackground": true,
            "ticks": "",
            "zerolinecolor": "white"
           }
          },
          "shapedefaults": {
           "line": {
            "color": "#2a3f5f"
           }
          },
          "ternary": {
           "aaxis": {
            "gridcolor": "white",
            "linecolor": "white",
            "ticks": ""
           },
           "baxis": {
            "gridcolor": "white",
            "linecolor": "white",
            "ticks": ""
           },
           "bgcolor": "#E5ECF6",
           "caxis": {
            "gridcolor": "white",
            "linecolor": "white",
            "ticks": ""
           }
          },
          "title": {
           "x": 0.05
          },
          "xaxis": {
           "automargin": true,
           "gridcolor": "white",
           "linecolor": "white",
           "ticks": "",
           "title": {
            "standoff": 15
           },
           "zerolinecolor": "white",
           "zerolinewidth": 2
          },
          "yaxis": {
           "automargin": true,
           "gridcolor": "white",
           "linecolor": "white",
           "ticks": "",
           "title": {
            "standoff": 15
           },
           "zerolinecolor": "white",
           "zerolinewidth": 2
          }
         }
        },
        "title": {
         "text": "Percent fully vaccinated as of 2023-02-11"
        },
        "xaxis": {
         "anchor": "y",
         "domain": [
          0,
          1
         ],
         "title": {
          "text": "location"
         }
        },
        "yaxis": {
         "anchor": "x",
         "domain": [
          0,
          1
         ],
         "range": [
          0,
          90
         ],
         "title": {
          "text": "people_fully_vaccinated_per_hundred"
         }
        }
       }
      },
      "text/html": [
       "<div>                            <div id=\"291ede60-9388-4f41-98d4-f5d9bb732214\" class=\"plotly-graph-div\" style=\"height:525px; width:100%;\"></div>            <script type=\"text/javascript\">                require([\"plotly\"], function(Plotly) {                    window.PLOTLYENV=window.PLOTLYENV || {};                                    if (document.getElementById(\"291ede60-9388-4f41-98d4-f5d9bb732214\")) {                    Plotly.newPlot(                        \"291ede60-9388-4f41-98d4-f5d9bb732214\",                        [{\"alignmentgroup\":\"True\",\"hovertemplate\":\"location=%{x}<br>people_fully_vaccinated_per_hundred=%{y}<extra></extra>\",\"legendgroup\":\"\",\"marker\":{\"color\":\"#636efa\",\"pattern\":{\"shape\":\"\"}},\"name\":\"\",\"offsetgroup\":\"\",\"orientation\":\"v\",\"showlegend\":false,\"textposition\":\"auto\",\"x\":[\"Puerto Rico\",\"Rhode Island\",\"Vermont\",\"Maine\",\"Connecticut\",\"Massachusetts\",\"Hawaii\",\"New York\",\"New Jersey\",\"Maryland\",\"Virginia\",\"Washington\",\"District of Columbia\",\"California\",\"New Hampshire\",\"New Mexico\",\"Colorado\",\"Oregon\",\"Minnesota\",\"Delaware\",\"Illinois\",\"Pennsylvania\",\"Florida\",\"Wisconsin\",\"Utah\",\"Nebraska\",\"Iowa\",\"Alaska\",\"Kansas\",\"Arizona\",\"Texas\",\"South Dakota\",\"Nevada\",\"North Carolina\",\"Michigan\",\"Ohio\",\"West Virginia\",\"Kentucky\",\"Oklahoma\",\"Montana\",\"South Carolina\",\"Missouri\",\"North Dakota\",\"Indiana\",\"Georgia\",\"Tennessee\",\"Arkansas\",\"Idaho\",\"Louisiana\",\"Mississippi\",\"Wyoming\",\"Alabama\"],\"xaxis\":\"x\",\"y\":[80.84,80.33,80.0,78.22,77.54,77.42,76.94,75.22,73.95,73.73,71.73,71.17,71.12,70.13,69.64,69.34,69.02,68.49,67.92,67.28,67.1,66.67,65.73,64.37,63.09,62.3,60.94,60.8,59.91,59.79,59.75,59.66,59.46,59.13,58.98,57.42,56.64,56.3,55.84,55.79,55.54,54.94,54.35,53.87,53.42,53.4,53.34,52.89,52.41,50.74,50.45,50.04],\"yaxis\":\"y\",\"type\":\"bar\"}],                        {\"template\":{\"data\":{\"histogram2dcontour\":[{\"type\":\"histogram2dcontour\",\"colorbar\":{\"outlinewidth\":0,\"ticks\":\"\"},\"colorscale\":[[0.0,\"#0d0887\"],[0.1111111111111111,\"#46039f\"],[0.2222222222222222,\"#7201a8\"],[0.3333333333333333,\"#9c179e\"],[0.4444444444444444,\"#bd3786\"],[0.5555555555555556,\"#d8576b\"],[0.6666666666666666,\"#ed7953\"],[0.7777777777777778,\"#fb9f3a\"],[0.8888888888888888,\"#fdca26\"],[1.0,\"#f0f921\"]]}],\"choropleth\":[{\"type\":\"choropleth\",\"colorbar\":{\"outlinewidth\":0,\"ticks\":\"\"}}],\"histogram2d\":[{\"type\":\"histogram2d\",\"colorbar\":{\"outlinewidth\":0,\"ticks\":\"\"},\"colorscale\":[[0.0,\"#0d0887\"],[0.1111111111111111,\"#46039f\"],[0.2222222222222222,\"#7201a8\"],[0.3333333333333333,\"#9c179e\"],[0.4444444444444444,\"#bd3786\"],[0.5555555555555556,\"#d8576b\"],[0.6666666666666666,\"#ed7953\"],[0.7777777777777778,\"#fb9f3a\"],[0.8888888888888888,\"#fdca26\"],[1.0,\"#f0f921\"]]}],\"heatmap\":[{\"type\":\"heatmap\",\"colorbar\":{\"outlinewidth\":0,\"ticks\":\"\"},\"colorscale\":[[0.0,\"#0d0887\"],[0.1111111111111111,\"#46039f\"],[0.2222222222222222,\"#7201a8\"],[0.3333333333333333,\"#9c179e\"],[0.4444444444444444,\"#bd3786\"],[0.5555555555555556,\"#d8576b\"],[0.6666666666666666,\"#ed7953\"],[0.7777777777777778,\"#fb9f3a\"],[0.8888888888888888,\"#fdca26\"],[1.0,\"#f0f921\"]]}],\"heatmapgl\":[{\"type\":\"heatmapgl\",\"colorbar\":{\"outlinewidth\":0,\"ticks\":\"\"},\"colorscale\":[[0.0,\"#0d0887\"],[0.1111111111111111,\"#46039f\"],[0.2222222222222222,\"#7201a8\"],[0.3333333333333333,\"#9c179e\"],[0.4444444444444444,\"#bd3786\"],[0.5555555555555556,\"#d8576b\"],[0.6666666666666666,\"#ed7953\"],[0.7777777777777778,\"#fb9f3a\"],[0.8888888888888888,\"#fdca26\"],[1.0,\"#f0f921\"]]}],\"contourcarpet\":[{\"type\":\"contourcarpet\",\"colorbar\":{\"outlinewidth\":0,\"ticks\":\"\"}}],\"contour\":[{\"type\":\"contour\",\"colorbar\":{\"outlinewidth\":0,\"ticks\":\"\"},\"colorscale\":[[0.0,\"#0d0887\"],[0.1111111111111111,\"#46039f\"],[0.2222222222222222,\"#7201a8\"],[0.3333333333333333,\"#9c179e\"],[0.4444444444444444,\"#bd3786\"],[0.5555555555555556,\"#d8576b\"],[0.6666666666666666,\"#ed7953\"],[0.7777777777777778,\"#fb9f3a\"],[0.8888888888888888,\"#fdca26\"],[1.0,\"#f0f921\"]]}],\"surface\":[{\"type\":\"surface\",\"colorbar\":{\"outlinewidth\":0,\"ticks\":\"\"},\"colorscale\":[[0.0,\"#0d0887\"],[0.1111111111111111,\"#46039f\"],[0.2222222222222222,\"#7201a8\"],[0.3333333333333333,\"#9c179e\"],[0.4444444444444444,\"#bd3786\"],[0.5555555555555556,\"#d8576b\"],[0.6666666666666666,\"#ed7953\"],[0.7777777777777778,\"#fb9f3a\"],[0.8888888888888888,\"#fdca26\"],[1.0,\"#f0f921\"]]}],\"mesh3d\":[{\"type\":\"mesh3d\",\"colorbar\":{\"outlinewidth\":0,\"ticks\":\"\"}}],\"scatter\":[{\"fillpattern\":{\"fillmode\":\"overlay\",\"size\":10,\"solidity\":0.2},\"type\":\"scatter\"}],\"parcoords\":[{\"type\":\"parcoords\",\"line\":{\"colorbar\":{\"outlinewidth\":0,\"ticks\":\"\"}}}],\"scatterpolargl\":[{\"type\":\"scatterpolargl\",\"marker\":{\"colorbar\":{\"outlinewidth\":0,\"ticks\":\"\"}}}],\"bar\":[{\"error_x\":{\"color\":\"#2a3f5f\"},\"error_y\":{\"color\":\"#2a3f5f\"},\"marker\":{\"line\":{\"color\":\"#E5ECF6\",\"width\":0.5},\"pattern\":{\"fillmode\":\"overlay\",\"size\":10,\"solidity\":0.2}},\"type\":\"bar\"}],\"scattergeo\":[{\"type\":\"scattergeo\",\"marker\":{\"colorbar\":{\"outlinewidth\":0,\"ticks\":\"\"}}}],\"scatterpolar\":[{\"type\":\"scatterpolar\",\"marker\":{\"colorbar\":{\"outlinewidth\":0,\"ticks\":\"\"}}}],\"histogram\":[{\"marker\":{\"pattern\":{\"fillmode\":\"overlay\",\"size\":10,\"solidity\":0.2}},\"type\":\"histogram\"}],\"scattergl\":[{\"type\":\"scattergl\",\"marker\":{\"colorbar\":{\"outlinewidth\":0,\"ticks\":\"\"}}}],\"scatter3d\":[{\"type\":\"scatter3d\",\"line\":{\"colorbar\":{\"outlinewidth\":0,\"ticks\":\"\"}},\"marker\":{\"colorbar\":{\"outlinewidth\":0,\"ticks\":\"\"}}}],\"scattermapbox\":[{\"type\":\"scattermapbox\",\"marker\":{\"colorbar\":{\"outlinewidth\":0,\"ticks\":\"\"}}}],\"scatterternary\":[{\"type\":\"scatterternary\",\"marker\":{\"colorbar\":{\"outlinewidth\":0,\"ticks\":\"\"}}}],\"scattercarpet\":[{\"type\":\"scattercarpet\",\"marker\":{\"colorbar\":{\"outlinewidth\":0,\"ticks\":\"\"}}}],\"carpet\":[{\"aaxis\":{\"endlinecolor\":\"#2a3f5f\",\"gridcolor\":\"white\",\"linecolor\":\"white\",\"minorgridcolor\":\"white\",\"startlinecolor\":\"#2a3f5f\"},\"baxis\":{\"endlinecolor\":\"#2a3f5f\",\"gridcolor\":\"white\",\"linecolor\":\"white\",\"minorgridcolor\":\"white\",\"startlinecolor\":\"#2a3f5f\"},\"type\":\"carpet\"}],\"table\":[{\"cells\":{\"fill\":{\"color\":\"#EBF0F8\"},\"line\":{\"color\":\"white\"}},\"header\":{\"fill\":{\"color\":\"#C8D4E3\"},\"line\":{\"color\":\"white\"}},\"type\":\"table\"}],\"barpolar\":[{\"marker\":{\"line\":{\"color\":\"#E5ECF6\",\"width\":0.5},\"pattern\":{\"fillmode\":\"overlay\",\"size\":10,\"solidity\":0.2}},\"type\":\"barpolar\"}],\"pie\":[{\"automargin\":true,\"type\":\"pie\"}]},\"layout\":{\"autotypenumbers\":\"strict\",\"colorway\":[\"#636efa\",\"#EF553B\",\"#00cc96\",\"#ab63fa\",\"#FFA15A\",\"#19d3f3\",\"#FF6692\",\"#B6E880\",\"#FF97FF\",\"#FECB52\"],\"font\":{\"color\":\"#2a3f5f\"},\"hovermode\":\"closest\",\"hoverlabel\":{\"align\":\"left\"},\"paper_bgcolor\":\"white\",\"plot_bgcolor\":\"#E5ECF6\",\"polar\":{\"bgcolor\":\"#E5ECF6\",\"angularaxis\":{\"gridcolor\":\"white\",\"linecolor\":\"white\",\"ticks\":\"\"},\"radialaxis\":{\"gridcolor\":\"white\",\"linecolor\":\"white\",\"ticks\":\"\"}},\"ternary\":{\"bgcolor\":\"#E5ECF6\",\"aaxis\":{\"gridcolor\":\"white\",\"linecolor\":\"white\",\"ticks\":\"\"},\"baxis\":{\"gridcolor\":\"white\",\"linecolor\":\"white\",\"ticks\":\"\"},\"caxis\":{\"gridcolor\":\"white\",\"linecolor\":\"white\",\"ticks\":\"\"}},\"coloraxis\":{\"colorbar\":{\"outlinewidth\":0,\"ticks\":\"\"}},\"colorscale\":{\"sequential\":[[0.0,\"#0d0887\"],[0.1111111111111111,\"#46039f\"],[0.2222222222222222,\"#7201a8\"],[0.3333333333333333,\"#9c179e\"],[0.4444444444444444,\"#bd3786\"],[0.5555555555555556,\"#d8576b\"],[0.6666666666666666,\"#ed7953\"],[0.7777777777777778,\"#fb9f3a\"],[0.8888888888888888,\"#fdca26\"],[1.0,\"#f0f921\"]],\"sequentialminus\":[[0.0,\"#0d0887\"],[0.1111111111111111,\"#46039f\"],[0.2222222222222222,\"#7201a8\"],[0.3333333333333333,\"#9c179e\"],[0.4444444444444444,\"#bd3786\"],[0.5555555555555556,\"#d8576b\"],[0.6666666666666666,\"#ed7953\"],[0.7777777777777778,\"#fb9f3a\"],[0.8888888888888888,\"#fdca26\"],[1.0,\"#f0f921\"]],\"diverging\":[[0,\"#8e0152\"],[0.1,\"#c51b7d\"],[0.2,\"#de77ae\"],[0.3,\"#f1b6da\"],[0.4,\"#fde0ef\"],[0.5,\"#f7f7f7\"],[0.6,\"#e6f5d0\"],[0.7,\"#b8e186\"],[0.8,\"#7fbc41\"],[0.9,\"#4d9221\"],[1,\"#276419\"]]},\"xaxis\":{\"gridcolor\":\"white\",\"linecolor\":\"white\",\"ticks\":\"\",\"title\":{\"standoff\":15},\"zerolinecolor\":\"white\",\"automargin\":true,\"zerolinewidth\":2},\"yaxis\":{\"gridcolor\":\"white\",\"linecolor\":\"white\",\"ticks\":\"\",\"title\":{\"standoff\":15},\"zerolinecolor\":\"white\",\"automargin\":true,\"zerolinewidth\":2},\"scene\":{\"xaxis\":{\"backgroundcolor\":\"#E5ECF6\",\"gridcolor\":\"white\",\"linecolor\":\"white\",\"showbackground\":true,\"ticks\":\"\",\"zerolinecolor\":\"white\",\"gridwidth\":2},\"yaxis\":{\"backgroundcolor\":\"#E5ECF6\",\"gridcolor\":\"white\",\"linecolor\":\"white\",\"showbackground\":true,\"ticks\":\"\",\"zerolinecolor\":\"white\",\"gridwidth\":2},\"zaxis\":{\"backgroundcolor\":\"#E5ECF6\",\"gridcolor\":\"white\",\"linecolor\":\"white\",\"showbackground\":true,\"ticks\":\"\",\"zerolinecolor\":\"white\",\"gridwidth\":2}},\"shapedefaults\":{\"line\":{\"color\":\"#2a3f5f\"}},\"annotationdefaults\":{\"arrowcolor\":\"#2a3f5f\",\"arrowhead\":0,\"arrowwidth\":1},\"geo\":{\"bgcolor\":\"white\",\"landcolor\":\"#E5ECF6\",\"subunitcolor\":\"white\",\"showland\":true,\"showlakes\":true,\"lakecolor\":\"white\"},\"title\":{\"x\":0.05},\"mapbox\":{\"style\":\"light\"}}},\"xaxis\":{\"anchor\":\"y\",\"domain\":[0.0,1.0],\"title\":{\"text\":\"location\"}},\"yaxis\":{\"anchor\":\"x\",\"domain\":[0.0,1.0],\"title\":{\"text\":\"people_fully_vaccinated_per_hundred\"},\"range\":[0,90]},\"legend\":{\"tracegroupgap\":0},\"title\":{\"text\":\"Percent fully vaccinated as of 2023-02-11\"},\"barmode\":\"relative\"},                        {\"responsive\": true}                    ).then(function(){\n",
       "                            \n",
       "var gd = document.getElementById('291ede60-9388-4f41-98d4-f5d9bb732214');\n",
       "var x = new MutationObserver(function (mutations, observer) {{\n",
       "        var display = window.getComputedStyle(gd).display;\n",
       "        if (!display || display === 'none') {{\n",
       "            console.log([gd, 'removed!']);\n",
       "            Plotly.purge(gd);\n",
       "            observer.disconnect();\n",
       "        }}\n",
       "}});\n",
       "\n",
       "// Listen for the removal of the full notebook cells\n",
       "var notebookContainer = gd.closest('#notebook-container');\n",
       "if (notebookContainer) {{\n",
       "    x.observe(notebookContainer, {childList: true});\n",
       "}}\n",
       "\n",
       "// Listen for the clearing of the current output cell\n",
       "var outputEl = gd.closest('.output');\n",
       "if (outputEl) {{\n",
       "    x.observe(outputEl, {childList: true});\n",
       "}}\n",
       "\n",
       "                        })                };                });            </script>        </div>"
      ]
     },
     "metadata": {},
     "output_type": "display_data"
    }
   ],
   "source": [
    "fig = px.bar(df_us_covid19,x='location',y='people_fully_vaccinated_per_hundred',title='Percent fully vaccinated as of '+todays_date)\n",
    "fig.update_yaxes(range=[0, 90])\n",
    "fig.show()"
   ]
  },
  {
   "cell_type": "code",
   "execution_count": 25,
   "metadata": {},
   "outputs": [
    {
     "data": {
      "application/vnd.plotly.v1+json": {
       "config": {
        "plotlyServerURL": "https://plot.ly"
       },
       "data": [
        {
         "coloraxis": "coloraxis",
         "geo": "geo",
         "hovertemplate": "<b>%{hovertext}</b><br><br>usa_state_code=%{location}<br>people_fully_vaccinated_per_hundred=%{z}<extra></extra>",
         "hovertext": [
          "Puerto Rico",
          "Rhode Island",
          "Vermont",
          "Maine",
          "Connecticut",
          "Massachusetts",
          "Hawaii",
          "New York",
          "New Jersey",
          "Maryland",
          "Virginia",
          "Washington",
          "District of Columbia",
          "California",
          "New Hampshire",
          "New Mexico",
          "Colorado",
          "Oregon",
          "Minnesota",
          "Delaware",
          "Illinois",
          "Pennsylvania",
          "Florida",
          "Wisconsin",
          "Utah",
          "Nebraska",
          "Iowa",
          "Alaska",
          "Kansas",
          "Arizona",
          "Texas",
          "South Dakota",
          "Nevada",
          "North Carolina",
          "Michigan",
          "Ohio",
          "West Virginia",
          "Kentucky",
          "Oklahoma",
          "Montana",
          "South Carolina",
          "Missouri",
          "North Dakota",
          "Indiana",
          "Georgia",
          "Tennessee",
          "Arkansas",
          "Idaho",
          "Louisiana",
          "Mississippi",
          "Wyoming",
          "Alabama"
         ],
         "locationmode": "USA-states",
         "locations": [
          "PR",
          "RI",
          "VT",
          "ME",
          "CT",
          "MA",
          "HI",
          "NY",
          "NJ",
          "MD",
          "VA",
          "WA",
          "DC",
          "CA",
          "NH",
          "NM",
          "CO",
          "OR",
          "MN",
          "DE",
          "IL",
          "PA",
          "FL",
          "WI",
          "UT",
          "NE",
          "IA",
          "AK",
          "KS",
          "AZ",
          "TX",
          "SD",
          "NV",
          "NC",
          "MI",
          "OH",
          "WV",
          "KY",
          "OK",
          "MT",
          "SC",
          "MO",
          "ND",
          "IN",
          "GA",
          "TN",
          "AR",
          "ID",
          "LA",
          "MS",
          "WY",
          "AL"
         ],
         "name": "",
         "type": "choropleth",
         "z": [
          80.84,
          80.33,
          80,
          78.22,
          77.54,
          77.42,
          76.94,
          75.22,
          73.95,
          73.73,
          71.73,
          71.17,
          71.12,
          70.13,
          69.64,
          69.34,
          69.02,
          68.49,
          67.92,
          67.28,
          67.1,
          66.67,
          65.73,
          64.37,
          63.09,
          62.3,
          60.94,
          60.8,
          59.91,
          59.79,
          59.75,
          59.66,
          59.46,
          59.13,
          58.98,
          57.42,
          56.64,
          56.3,
          55.84,
          55.79,
          55.54,
          54.94,
          54.35,
          53.87,
          53.42,
          53.4,
          53.34,
          52.89,
          52.41,
          50.74,
          50.45,
          50.04
         ]
        }
       ],
       "layout": {
        "coloraxis": {
         "cmax": 70,
         "cmin": 0,
         "colorbar": {
          "title": {
           "text": "people_fully_vaccinated_per_hundred"
          }
         },
         "colorscale": [
          [
           0,
           "rgb(103,0,31)"
          ],
          [
           0.1,
           "rgb(178,24,43)"
          ],
          [
           0.2,
           "rgb(214,96,77)"
          ],
          [
           0.3,
           "rgb(244,165,130)"
          ],
          [
           0.4,
           "rgb(253,219,199)"
          ],
          [
           0.5,
           "rgb(247,247,247)"
          ],
          [
           0.6,
           "rgb(209,229,240)"
          ],
          [
           0.7,
           "rgb(146,197,222)"
          ],
          [
           0.8,
           "rgb(67,147,195)"
          ],
          [
           0.9,
           "rgb(33,102,172)"
          ],
          [
           1,
           "rgb(5,48,97)"
          ]
         ]
        },
        "geo": {
         "center": {},
         "domain": {
          "x": [
           0,
           1
          ],
          "y": [
           0,
           1
          ]
         },
         "scope": "usa"
        },
        "legend": {
         "tracegroupgap": 0
        },
        "template": {
         "data": {
          "bar": [
           {
            "error_x": {
             "color": "#2a3f5f"
            },
            "error_y": {
             "color": "#2a3f5f"
            },
            "marker": {
             "line": {
              "color": "#E5ECF6",
              "width": 0.5
             },
             "pattern": {
              "fillmode": "overlay",
              "size": 10,
              "solidity": 0.2
             }
            },
            "type": "bar"
           }
          ],
          "barpolar": [
           {
            "marker": {
             "line": {
              "color": "#E5ECF6",
              "width": 0.5
             },
             "pattern": {
              "fillmode": "overlay",
              "size": 10,
              "solidity": 0.2
             }
            },
            "type": "barpolar"
           }
          ],
          "carpet": [
           {
            "aaxis": {
             "endlinecolor": "#2a3f5f",
             "gridcolor": "white",
             "linecolor": "white",
             "minorgridcolor": "white",
             "startlinecolor": "#2a3f5f"
            },
            "baxis": {
             "endlinecolor": "#2a3f5f",
             "gridcolor": "white",
             "linecolor": "white",
             "minorgridcolor": "white",
             "startlinecolor": "#2a3f5f"
            },
            "type": "carpet"
           }
          ],
          "choropleth": [
           {
            "colorbar": {
             "outlinewidth": 0,
             "ticks": ""
            },
            "type": "choropleth"
           }
          ],
          "contour": [
           {
            "colorbar": {
             "outlinewidth": 0,
             "ticks": ""
            },
            "colorscale": [
             [
              0,
              "#0d0887"
             ],
             [
              0.1111111111111111,
              "#46039f"
             ],
             [
              0.2222222222222222,
              "#7201a8"
             ],
             [
              0.3333333333333333,
              "#9c179e"
             ],
             [
              0.4444444444444444,
              "#bd3786"
             ],
             [
              0.5555555555555556,
              "#d8576b"
             ],
             [
              0.6666666666666666,
              "#ed7953"
             ],
             [
              0.7777777777777778,
              "#fb9f3a"
             ],
             [
              0.8888888888888888,
              "#fdca26"
             ],
             [
              1,
              "#f0f921"
             ]
            ],
            "type": "contour"
           }
          ],
          "contourcarpet": [
           {
            "colorbar": {
             "outlinewidth": 0,
             "ticks": ""
            },
            "type": "contourcarpet"
           }
          ],
          "heatmap": [
           {
            "colorbar": {
             "outlinewidth": 0,
             "ticks": ""
            },
            "colorscale": [
             [
              0,
              "#0d0887"
             ],
             [
              0.1111111111111111,
              "#46039f"
             ],
             [
              0.2222222222222222,
              "#7201a8"
             ],
             [
              0.3333333333333333,
              "#9c179e"
             ],
             [
              0.4444444444444444,
              "#bd3786"
             ],
             [
              0.5555555555555556,
              "#d8576b"
             ],
             [
              0.6666666666666666,
              "#ed7953"
             ],
             [
              0.7777777777777778,
              "#fb9f3a"
             ],
             [
              0.8888888888888888,
              "#fdca26"
             ],
             [
              1,
              "#f0f921"
             ]
            ],
            "type": "heatmap"
           }
          ],
          "heatmapgl": [
           {
            "colorbar": {
             "outlinewidth": 0,
             "ticks": ""
            },
            "colorscale": [
             [
              0,
              "#0d0887"
             ],
             [
              0.1111111111111111,
              "#46039f"
             ],
             [
              0.2222222222222222,
              "#7201a8"
             ],
             [
              0.3333333333333333,
              "#9c179e"
             ],
             [
              0.4444444444444444,
              "#bd3786"
             ],
             [
              0.5555555555555556,
              "#d8576b"
             ],
             [
              0.6666666666666666,
              "#ed7953"
             ],
             [
              0.7777777777777778,
              "#fb9f3a"
             ],
             [
              0.8888888888888888,
              "#fdca26"
             ],
             [
              1,
              "#f0f921"
             ]
            ],
            "type": "heatmapgl"
           }
          ],
          "histogram": [
           {
            "marker": {
             "pattern": {
              "fillmode": "overlay",
              "size": 10,
              "solidity": 0.2
             }
            },
            "type": "histogram"
           }
          ],
          "histogram2d": [
           {
            "colorbar": {
             "outlinewidth": 0,
             "ticks": ""
            },
            "colorscale": [
             [
              0,
              "#0d0887"
             ],
             [
              0.1111111111111111,
              "#46039f"
             ],
             [
              0.2222222222222222,
              "#7201a8"
             ],
             [
              0.3333333333333333,
              "#9c179e"
             ],
             [
              0.4444444444444444,
              "#bd3786"
             ],
             [
              0.5555555555555556,
              "#d8576b"
             ],
             [
              0.6666666666666666,
              "#ed7953"
             ],
             [
              0.7777777777777778,
              "#fb9f3a"
             ],
             [
              0.8888888888888888,
              "#fdca26"
             ],
             [
              1,
              "#f0f921"
             ]
            ],
            "type": "histogram2d"
           }
          ],
          "histogram2dcontour": [
           {
            "colorbar": {
             "outlinewidth": 0,
             "ticks": ""
            },
            "colorscale": [
             [
              0,
              "#0d0887"
             ],
             [
              0.1111111111111111,
              "#46039f"
             ],
             [
              0.2222222222222222,
              "#7201a8"
             ],
             [
              0.3333333333333333,
              "#9c179e"
             ],
             [
              0.4444444444444444,
              "#bd3786"
             ],
             [
              0.5555555555555556,
              "#d8576b"
             ],
             [
              0.6666666666666666,
              "#ed7953"
             ],
             [
              0.7777777777777778,
              "#fb9f3a"
             ],
             [
              0.8888888888888888,
              "#fdca26"
             ],
             [
              1,
              "#f0f921"
             ]
            ],
            "type": "histogram2dcontour"
           }
          ],
          "mesh3d": [
           {
            "colorbar": {
             "outlinewidth": 0,
             "ticks": ""
            },
            "type": "mesh3d"
           }
          ],
          "parcoords": [
           {
            "line": {
             "colorbar": {
              "outlinewidth": 0,
              "ticks": ""
             }
            },
            "type": "parcoords"
           }
          ],
          "pie": [
           {
            "automargin": true,
            "type": "pie"
           }
          ],
          "scatter": [
           {
            "fillpattern": {
             "fillmode": "overlay",
             "size": 10,
             "solidity": 0.2
            },
            "type": "scatter"
           }
          ],
          "scatter3d": [
           {
            "line": {
             "colorbar": {
              "outlinewidth": 0,
              "ticks": ""
             }
            },
            "marker": {
             "colorbar": {
              "outlinewidth": 0,
              "ticks": ""
             }
            },
            "type": "scatter3d"
           }
          ],
          "scattercarpet": [
           {
            "marker": {
             "colorbar": {
              "outlinewidth": 0,
              "ticks": ""
             }
            },
            "type": "scattercarpet"
           }
          ],
          "scattergeo": [
           {
            "marker": {
             "colorbar": {
              "outlinewidth": 0,
              "ticks": ""
             }
            },
            "type": "scattergeo"
           }
          ],
          "scattergl": [
           {
            "marker": {
             "colorbar": {
              "outlinewidth": 0,
              "ticks": ""
             }
            },
            "type": "scattergl"
           }
          ],
          "scattermapbox": [
           {
            "marker": {
             "colorbar": {
              "outlinewidth": 0,
              "ticks": ""
             }
            },
            "type": "scattermapbox"
           }
          ],
          "scatterpolar": [
           {
            "marker": {
             "colorbar": {
              "outlinewidth": 0,
              "ticks": ""
             }
            },
            "type": "scatterpolar"
           }
          ],
          "scatterpolargl": [
           {
            "marker": {
             "colorbar": {
              "outlinewidth": 0,
              "ticks": ""
             }
            },
            "type": "scatterpolargl"
           }
          ],
          "scatterternary": [
           {
            "marker": {
             "colorbar": {
              "outlinewidth": 0,
              "ticks": ""
             }
            },
            "type": "scatterternary"
           }
          ],
          "surface": [
           {
            "colorbar": {
             "outlinewidth": 0,
             "ticks": ""
            },
            "colorscale": [
             [
              0,
              "#0d0887"
             ],
             [
              0.1111111111111111,
              "#46039f"
             ],
             [
              0.2222222222222222,
              "#7201a8"
             ],
             [
              0.3333333333333333,
              "#9c179e"
             ],
             [
              0.4444444444444444,
              "#bd3786"
             ],
             [
              0.5555555555555556,
              "#d8576b"
             ],
             [
              0.6666666666666666,
              "#ed7953"
             ],
             [
              0.7777777777777778,
              "#fb9f3a"
             ],
             [
              0.8888888888888888,
              "#fdca26"
             ],
             [
              1,
              "#f0f921"
             ]
            ],
            "type": "surface"
           }
          ],
          "table": [
           {
            "cells": {
             "fill": {
              "color": "#EBF0F8"
             },
             "line": {
              "color": "white"
             }
            },
            "header": {
             "fill": {
              "color": "#C8D4E3"
             },
             "line": {
              "color": "white"
             }
            },
            "type": "table"
           }
          ]
         },
         "layout": {
          "annotationdefaults": {
           "arrowcolor": "#2a3f5f",
           "arrowhead": 0,
           "arrowwidth": 1
          },
          "autotypenumbers": "strict",
          "coloraxis": {
           "colorbar": {
            "outlinewidth": 0,
            "ticks": ""
           }
          },
          "colorscale": {
           "diverging": [
            [
             0,
             "#8e0152"
            ],
            [
             0.1,
             "#c51b7d"
            ],
            [
             0.2,
             "#de77ae"
            ],
            [
             0.3,
             "#f1b6da"
            ],
            [
             0.4,
             "#fde0ef"
            ],
            [
             0.5,
             "#f7f7f7"
            ],
            [
             0.6,
             "#e6f5d0"
            ],
            [
             0.7,
             "#b8e186"
            ],
            [
             0.8,
             "#7fbc41"
            ],
            [
             0.9,
             "#4d9221"
            ],
            [
             1,
             "#276419"
            ]
           ],
           "sequential": [
            [
             0,
             "#0d0887"
            ],
            [
             0.1111111111111111,
             "#46039f"
            ],
            [
             0.2222222222222222,
             "#7201a8"
            ],
            [
             0.3333333333333333,
             "#9c179e"
            ],
            [
             0.4444444444444444,
             "#bd3786"
            ],
            [
             0.5555555555555556,
             "#d8576b"
            ],
            [
             0.6666666666666666,
             "#ed7953"
            ],
            [
             0.7777777777777778,
             "#fb9f3a"
            ],
            [
             0.8888888888888888,
             "#fdca26"
            ],
            [
             1,
             "#f0f921"
            ]
           ],
           "sequentialminus": [
            [
             0,
             "#0d0887"
            ],
            [
             0.1111111111111111,
             "#46039f"
            ],
            [
             0.2222222222222222,
             "#7201a8"
            ],
            [
             0.3333333333333333,
             "#9c179e"
            ],
            [
             0.4444444444444444,
             "#bd3786"
            ],
            [
             0.5555555555555556,
             "#d8576b"
            ],
            [
             0.6666666666666666,
             "#ed7953"
            ],
            [
             0.7777777777777778,
             "#fb9f3a"
            ],
            [
             0.8888888888888888,
             "#fdca26"
            ],
            [
             1,
             "#f0f921"
            ]
           ]
          },
          "colorway": [
           "#636efa",
           "#EF553B",
           "#00cc96",
           "#ab63fa",
           "#FFA15A",
           "#19d3f3",
           "#FF6692",
           "#B6E880",
           "#FF97FF",
           "#FECB52"
          ],
          "font": {
           "color": "#2a3f5f"
          },
          "geo": {
           "bgcolor": "white",
           "lakecolor": "white",
           "landcolor": "#E5ECF6",
           "showlakes": true,
           "showland": true,
           "subunitcolor": "white"
          },
          "hoverlabel": {
           "align": "left"
          },
          "hovermode": "closest",
          "mapbox": {
           "style": "light"
          },
          "paper_bgcolor": "white",
          "plot_bgcolor": "#E5ECF6",
          "polar": {
           "angularaxis": {
            "gridcolor": "white",
            "linecolor": "white",
            "ticks": ""
           },
           "bgcolor": "#E5ECF6",
           "radialaxis": {
            "gridcolor": "white",
            "linecolor": "white",
            "ticks": ""
           }
          },
          "scene": {
           "xaxis": {
            "backgroundcolor": "#E5ECF6",
            "gridcolor": "white",
            "gridwidth": 2,
            "linecolor": "white",
            "showbackground": true,
            "ticks": "",
            "zerolinecolor": "white"
           },
           "yaxis": {
            "backgroundcolor": "#E5ECF6",
            "gridcolor": "white",
            "gridwidth": 2,
            "linecolor": "white",
            "showbackground": true,
            "ticks": "",
            "zerolinecolor": "white"
           },
           "zaxis": {
            "backgroundcolor": "#E5ECF6",
            "gridcolor": "white",
            "gridwidth": 2,
            "linecolor": "white",
            "showbackground": true,
            "ticks": "",
            "zerolinecolor": "white"
           }
          },
          "shapedefaults": {
           "line": {
            "color": "#2a3f5f"
           }
          },
          "ternary": {
           "aaxis": {
            "gridcolor": "white",
            "linecolor": "white",
            "ticks": ""
           },
           "baxis": {
            "gridcolor": "white",
            "linecolor": "white",
            "ticks": ""
           },
           "bgcolor": "#E5ECF6",
           "caxis": {
            "gridcolor": "white",
            "linecolor": "white",
            "ticks": ""
           }
          },
          "title": {
           "x": 0.05
          },
          "xaxis": {
           "automargin": true,
           "gridcolor": "white",
           "linecolor": "white",
           "ticks": "",
           "title": {
            "standoff": 15
           },
           "zerolinecolor": "white",
           "zerolinewidth": 2
          },
          "yaxis": {
           "automargin": true,
           "gridcolor": "white",
           "linecolor": "white",
           "ticks": "",
           "title": {
            "standoff": 15
           },
           "zerolinecolor": "white",
           "zerolinewidth": 2
          }
         }
        },
        "title": {
         "text": "Percent fully vaccinated as of 2023-02-11"
        }
       }
      },
      "text/html": [
       "<div>                            <div id=\"497443b1-cbaa-4fdf-bcb5-ec97c8677f08\" class=\"plotly-graph-div\" style=\"height:525px; width:100%;\"></div>            <script type=\"text/javascript\">                require([\"plotly\"], function(Plotly) {                    window.PLOTLYENV=window.PLOTLYENV || {};                                    if (document.getElementById(\"497443b1-cbaa-4fdf-bcb5-ec97c8677f08\")) {                    Plotly.newPlot(                        \"497443b1-cbaa-4fdf-bcb5-ec97c8677f08\",                        [{\"coloraxis\":\"coloraxis\",\"geo\":\"geo\",\"hovertemplate\":\"<b>%{hovertext}</b><br><br>usa_state_code=%{location}<br>people_fully_vaccinated_per_hundred=%{z}<extra></extra>\",\"hovertext\":[\"Puerto Rico\",\"Rhode Island\",\"Vermont\",\"Maine\",\"Connecticut\",\"Massachusetts\",\"Hawaii\",\"New York\",\"New Jersey\",\"Maryland\",\"Virginia\",\"Washington\",\"District of Columbia\",\"California\",\"New Hampshire\",\"New Mexico\",\"Colorado\",\"Oregon\",\"Minnesota\",\"Delaware\",\"Illinois\",\"Pennsylvania\",\"Florida\",\"Wisconsin\",\"Utah\",\"Nebraska\",\"Iowa\",\"Alaska\",\"Kansas\",\"Arizona\",\"Texas\",\"South Dakota\",\"Nevada\",\"North Carolina\",\"Michigan\",\"Ohio\",\"West Virginia\",\"Kentucky\",\"Oklahoma\",\"Montana\",\"South Carolina\",\"Missouri\",\"North Dakota\",\"Indiana\",\"Georgia\",\"Tennessee\",\"Arkansas\",\"Idaho\",\"Louisiana\",\"Mississippi\",\"Wyoming\",\"Alabama\"],\"locationmode\":\"USA-states\",\"locations\":[\"PR\",\"RI\",\"VT\",\"ME\",\"CT\",\"MA\",\"HI\",\"NY\",\"NJ\",\"MD\",\"VA\",\"WA\",\"DC\",\"CA\",\"NH\",\"NM\",\"CO\",\"OR\",\"MN\",\"DE\",\"IL\",\"PA\",\"FL\",\"WI\",\"UT\",\"NE\",\"IA\",\"AK\",\"KS\",\"AZ\",\"TX\",\"SD\",\"NV\",\"NC\",\"MI\",\"OH\",\"WV\",\"KY\",\"OK\",\"MT\",\"SC\",\"MO\",\"ND\",\"IN\",\"GA\",\"TN\",\"AR\",\"ID\",\"LA\",\"MS\",\"WY\",\"AL\"],\"name\":\"\",\"z\":[80.84,80.33,80.0,78.22,77.54,77.42,76.94,75.22,73.95,73.73,71.73,71.17,71.12,70.13,69.64,69.34,69.02,68.49,67.92,67.28,67.1,66.67,65.73,64.37,63.09,62.3,60.94,60.8,59.91,59.79,59.75,59.66,59.46,59.13,58.98,57.42,56.64,56.3,55.84,55.79,55.54,54.94,54.35,53.87,53.42,53.4,53.34,52.89,52.41,50.74,50.45,50.04],\"type\":\"choropleth\"}],                        {\"template\":{\"data\":{\"histogram2dcontour\":[{\"type\":\"histogram2dcontour\",\"colorbar\":{\"outlinewidth\":0,\"ticks\":\"\"},\"colorscale\":[[0.0,\"#0d0887\"],[0.1111111111111111,\"#46039f\"],[0.2222222222222222,\"#7201a8\"],[0.3333333333333333,\"#9c179e\"],[0.4444444444444444,\"#bd3786\"],[0.5555555555555556,\"#d8576b\"],[0.6666666666666666,\"#ed7953\"],[0.7777777777777778,\"#fb9f3a\"],[0.8888888888888888,\"#fdca26\"],[1.0,\"#f0f921\"]]}],\"choropleth\":[{\"type\":\"choropleth\",\"colorbar\":{\"outlinewidth\":0,\"ticks\":\"\"}}],\"histogram2d\":[{\"type\":\"histogram2d\",\"colorbar\":{\"outlinewidth\":0,\"ticks\":\"\"},\"colorscale\":[[0.0,\"#0d0887\"],[0.1111111111111111,\"#46039f\"],[0.2222222222222222,\"#7201a8\"],[0.3333333333333333,\"#9c179e\"],[0.4444444444444444,\"#bd3786\"],[0.5555555555555556,\"#d8576b\"],[0.6666666666666666,\"#ed7953\"],[0.7777777777777778,\"#fb9f3a\"],[0.8888888888888888,\"#fdca26\"],[1.0,\"#f0f921\"]]}],\"heatmap\":[{\"type\":\"heatmap\",\"colorbar\":{\"outlinewidth\":0,\"ticks\":\"\"},\"colorscale\":[[0.0,\"#0d0887\"],[0.1111111111111111,\"#46039f\"],[0.2222222222222222,\"#7201a8\"],[0.3333333333333333,\"#9c179e\"],[0.4444444444444444,\"#bd3786\"],[0.5555555555555556,\"#d8576b\"],[0.6666666666666666,\"#ed7953\"],[0.7777777777777778,\"#fb9f3a\"],[0.8888888888888888,\"#fdca26\"],[1.0,\"#f0f921\"]]}],\"heatmapgl\":[{\"type\":\"heatmapgl\",\"colorbar\":{\"outlinewidth\":0,\"ticks\":\"\"},\"colorscale\":[[0.0,\"#0d0887\"],[0.1111111111111111,\"#46039f\"],[0.2222222222222222,\"#7201a8\"],[0.3333333333333333,\"#9c179e\"],[0.4444444444444444,\"#bd3786\"],[0.5555555555555556,\"#d8576b\"],[0.6666666666666666,\"#ed7953\"],[0.7777777777777778,\"#fb9f3a\"],[0.8888888888888888,\"#fdca26\"],[1.0,\"#f0f921\"]]}],\"contourcarpet\":[{\"type\":\"contourcarpet\",\"colorbar\":{\"outlinewidth\":0,\"ticks\":\"\"}}],\"contour\":[{\"type\":\"contour\",\"colorbar\":{\"outlinewidth\":0,\"ticks\":\"\"},\"colorscale\":[[0.0,\"#0d0887\"],[0.1111111111111111,\"#46039f\"],[0.2222222222222222,\"#7201a8\"],[0.3333333333333333,\"#9c179e\"],[0.4444444444444444,\"#bd3786\"],[0.5555555555555556,\"#d8576b\"],[0.6666666666666666,\"#ed7953\"],[0.7777777777777778,\"#fb9f3a\"],[0.8888888888888888,\"#fdca26\"],[1.0,\"#f0f921\"]]}],\"surface\":[{\"type\":\"surface\",\"colorbar\":{\"outlinewidth\":0,\"ticks\":\"\"},\"colorscale\":[[0.0,\"#0d0887\"],[0.1111111111111111,\"#46039f\"],[0.2222222222222222,\"#7201a8\"],[0.3333333333333333,\"#9c179e\"],[0.4444444444444444,\"#bd3786\"],[0.5555555555555556,\"#d8576b\"],[0.6666666666666666,\"#ed7953\"],[0.7777777777777778,\"#fb9f3a\"],[0.8888888888888888,\"#fdca26\"],[1.0,\"#f0f921\"]]}],\"mesh3d\":[{\"type\":\"mesh3d\",\"colorbar\":{\"outlinewidth\":0,\"ticks\":\"\"}}],\"scatter\":[{\"fillpattern\":{\"fillmode\":\"overlay\",\"size\":10,\"solidity\":0.2},\"type\":\"scatter\"}],\"parcoords\":[{\"type\":\"parcoords\",\"line\":{\"colorbar\":{\"outlinewidth\":0,\"ticks\":\"\"}}}],\"scatterpolargl\":[{\"type\":\"scatterpolargl\",\"marker\":{\"colorbar\":{\"outlinewidth\":0,\"ticks\":\"\"}}}],\"bar\":[{\"error_x\":{\"color\":\"#2a3f5f\"},\"error_y\":{\"color\":\"#2a3f5f\"},\"marker\":{\"line\":{\"color\":\"#E5ECF6\",\"width\":0.5},\"pattern\":{\"fillmode\":\"overlay\",\"size\":10,\"solidity\":0.2}},\"type\":\"bar\"}],\"scattergeo\":[{\"type\":\"scattergeo\",\"marker\":{\"colorbar\":{\"outlinewidth\":0,\"ticks\":\"\"}}}],\"scatterpolar\":[{\"type\":\"scatterpolar\",\"marker\":{\"colorbar\":{\"outlinewidth\":0,\"ticks\":\"\"}}}],\"histogram\":[{\"marker\":{\"pattern\":{\"fillmode\":\"overlay\",\"size\":10,\"solidity\":0.2}},\"type\":\"histogram\"}],\"scattergl\":[{\"type\":\"scattergl\",\"marker\":{\"colorbar\":{\"outlinewidth\":0,\"ticks\":\"\"}}}],\"scatter3d\":[{\"type\":\"scatter3d\",\"line\":{\"colorbar\":{\"outlinewidth\":0,\"ticks\":\"\"}},\"marker\":{\"colorbar\":{\"outlinewidth\":0,\"ticks\":\"\"}}}],\"scattermapbox\":[{\"type\":\"scattermapbox\",\"marker\":{\"colorbar\":{\"outlinewidth\":0,\"ticks\":\"\"}}}],\"scatterternary\":[{\"type\":\"scatterternary\",\"marker\":{\"colorbar\":{\"outlinewidth\":0,\"ticks\":\"\"}}}],\"scattercarpet\":[{\"type\":\"scattercarpet\",\"marker\":{\"colorbar\":{\"outlinewidth\":0,\"ticks\":\"\"}}}],\"carpet\":[{\"aaxis\":{\"endlinecolor\":\"#2a3f5f\",\"gridcolor\":\"white\",\"linecolor\":\"white\",\"minorgridcolor\":\"white\",\"startlinecolor\":\"#2a3f5f\"},\"baxis\":{\"endlinecolor\":\"#2a3f5f\",\"gridcolor\":\"white\",\"linecolor\":\"white\",\"minorgridcolor\":\"white\",\"startlinecolor\":\"#2a3f5f\"},\"type\":\"carpet\"}],\"table\":[{\"cells\":{\"fill\":{\"color\":\"#EBF0F8\"},\"line\":{\"color\":\"white\"}},\"header\":{\"fill\":{\"color\":\"#C8D4E3\"},\"line\":{\"color\":\"white\"}},\"type\":\"table\"}],\"barpolar\":[{\"marker\":{\"line\":{\"color\":\"#E5ECF6\",\"width\":0.5},\"pattern\":{\"fillmode\":\"overlay\",\"size\":10,\"solidity\":0.2}},\"type\":\"barpolar\"}],\"pie\":[{\"automargin\":true,\"type\":\"pie\"}]},\"layout\":{\"autotypenumbers\":\"strict\",\"colorway\":[\"#636efa\",\"#EF553B\",\"#00cc96\",\"#ab63fa\",\"#FFA15A\",\"#19d3f3\",\"#FF6692\",\"#B6E880\",\"#FF97FF\",\"#FECB52\"],\"font\":{\"color\":\"#2a3f5f\"},\"hovermode\":\"closest\",\"hoverlabel\":{\"align\":\"left\"},\"paper_bgcolor\":\"white\",\"plot_bgcolor\":\"#E5ECF6\",\"polar\":{\"bgcolor\":\"#E5ECF6\",\"angularaxis\":{\"gridcolor\":\"white\",\"linecolor\":\"white\",\"ticks\":\"\"},\"radialaxis\":{\"gridcolor\":\"white\",\"linecolor\":\"white\",\"ticks\":\"\"}},\"ternary\":{\"bgcolor\":\"#E5ECF6\",\"aaxis\":{\"gridcolor\":\"white\",\"linecolor\":\"white\",\"ticks\":\"\"},\"baxis\":{\"gridcolor\":\"white\",\"linecolor\":\"white\",\"ticks\":\"\"},\"caxis\":{\"gridcolor\":\"white\",\"linecolor\":\"white\",\"ticks\":\"\"}},\"coloraxis\":{\"colorbar\":{\"outlinewidth\":0,\"ticks\":\"\"}},\"colorscale\":{\"sequential\":[[0.0,\"#0d0887\"],[0.1111111111111111,\"#46039f\"],[0.2222222222222222,\"#7201a8\"],[0.3333333333333333,\"#9c179e\"],[0.4444444444444444,\"#bd3786\"],[0.5555555555555556,\"#d8576b\"],[0.6666666666666666,\"#ed7953\"],[0.7777777777777778,\"#fb9f3a\"],[0.8888888888888888,\"#fdca26\"],[1.0,\"#f0f921\"]],\"sequentialminus\":[[0.0,\"#0d0887\"],[0.1111111111111111,\"#46039f\"],[0.2222222222222222,\"#7201a8\"],[0.3333333333333333,\"#9c179e\"],[0.4444444444444444,\"#bd3786\"],[0.5555555555555556,\"#d8576b\"],[0.6666666666666666,\"#ed7953\"],[0.7777777777777778,\"#fb9f3a\"],[0.8888888888888888,\"#fdca26\"],[1.0,\"#f0f921\"]],\"diverging\":[[0,\"#8e0152\"],[0.1,\"#c51b7d\"],[0.2,\"#de77ae\"],[0.3,\"#f1b6da\"],[0.4,\"#fde0ef\"],[0.5,\"#f7f7f7\"],[0.6,\"#e6f5d0\"],[0.7,\"#b8e186\"],[0.8,\"#7fbc41\"],[0.9,\"#4d9221\"],[1,\"#276419\"]]},\"xaxis\":{\"gridcolor\":\"white\",\"linecolor\":\"white\",\"ticks\":\"\",\"title\":{\"standoff\":15},\"zerolinecolor\":\"white\",\"automargin\":true,\"zerolinewidth\":2},\"yaxis\":{\"gridcolor\":\"white\",\"linecolor\":\"white\",\"ticks\":\"\",\"title\":{\"standoff\":15},\"zerolinecolor\":\"white\",\"automargin\":true,\"zerolinewidth\":2},\"scene\":{\"xaxis\":{\"backgroundcolor\":\"#E5ECF6\",\"gridcolor\":\"white\",\"linecolor\":\"white\",\"showbackground\":true,\"ticks\":\"\",\"zerolinecolor\":\"white\",\"gridwidth\":2},\"yaxis\":{\"backgroundcolor\":\"#E5ECF6\",\"gridcolor\":\"white\",\"linecolor\":\"white\",\"showbackground\":true,\"ticks\":\"\",\"zerolinecolor\":\"white\",\"gridwidth\":2},\"zaxis\":{\"backgroundcolor\":\"#E5ECF6\",\"gridcolor\":\"white\",\"linecolor\":\"white\",\"showbackground\":true,\"ticks\":\"\",\"zerolinecolor\":\"white\",\"gridwidth\":2}},\"shapedefaults\":{\"line\":{\"color\":\"#2a3f5f\"}},\"annotationdefaults\":{\"arrowcolor\":\"#2a3f5f\",\"arrowhead\":0,\"arrowwidth\":1},\"geo\":{\"bgcolor\":\"white\",\"landcolor\":\"#E5ECF6\",\"subunitcolor\":\"white\",\"showland\":true,\"showlakes\":true,\"lakecolor\":\"white\"},\"title\":{\"x\":0.05},\"mapbox\":{\"style\":\"light\"}}},\"geo\":{\"domain\":{\"x\":[0.0,1.0],\"y\":[0.0,1.0]},\"center\":{},\"scope\":\"usa\"},\"coloraxis\":{\"colorbar\":{\"title\":{\"text\":\"people_fully_vaccinated_per_hundred\"}},\"colorscale\":[[0.0,\"rgb(103,0,31)\"],[0.1,\"rgb(178,24,43)\"],[0.2,\"rgb(214,96,77)\"],[0.3,\"rgb(244,165,130)\"],[0.4,\"rgb(253,219,199)\"],[0.5,\"rgb(247,247,247)\"],[0.6,\"rgb(209,229,240)\"],[0.7,\"rgb(146,197,222)\"],[0.8,\"rgb(67,147,195)\"],[0.9,\"rgb(33,102,172)\"],[1.0,\"rgb(5,48,97)\"]],\"cmin\":0,\"cmax\":70},\"legend\":{\"tracegroupgap\":0},\"title\":{\"text\":\"Percent fully vaccinated as of 2023-02-11\"}},                        {\"responsive\": true}                    ).then(function(){\n",
       "                            \n",
       "var gd = document.getElementById('497443b1-cbaa-4fdf-bcb5-ec97c8677f08');\n",
       "var x = new MutationObserver(function (mutations, observer) {{\n",
       "        var display = window.getComputedStyle(gd).display;\n",
       "        if (!display || display === 'none') {{\n",
       "            console.log([gd, 'removed!']);\n",
       "            Plotly.purge(gd);\n",
       "            observer.disconnect();\n",
       "        }}\n",
       "}});\n",
       "\n",
       "// Listen for the removal of the full notebook cells\n",
       "var notebookContainer = gd.closest('#notebook-container');\n",
       "if (notebookContainer) {{\n",
       "    x.observe(notebookContainer, {childList: true});\n",
       "}}\n",
       "\n",
       "// Listen for the clearing of the current output cell\n",
       "var outputEl = gd.closest('.output');\n",
       "if (outputEl) {{\n",
       "    x.observe(outputEl, {childList: true});\n",
       "}}\n",
       "\n",
       "                        })                };                });            </script>        </div>"
      ]
     },
     "metadata": {},
     "output_type": "display_data"
    }
   ],
   "source": [
    "fig = px.choropleth(df_us_covid19, \n",
    "                    locations=\"usa_state_code\", \n",
    "                    color = \"people_fully_vaccinated_per_hundred\",\n",
    "                    locationmode = 'USA-states', \n",
    "                    hover_name=\"location\",\n",
    "                    range_color=[0,70],\n",
    "                    color_continuous_scale = 'RdBu',\n",
    "                    scope=\"usa\",\n",
    "                    title='Percent fully vaccinated as of '+todays_date)\n",
    "fig.show()"
   ]
  },
  {
   "cell_type": "code",
   "execution_count": 26,
   "metadata": {},
   "outputs": [],
   "source": [
    "df_us_covid19.to_csv('vaccination_data_clean.csv')"
   ]
  },
  {
   "cell_type": "code",
   "execution_count": null,
   "metadata": {},
   "outputs": [],
   "source": []
  }
 ],
 "metadata": {
  "kernelspec": {
   "display_name": "Python 3.10.6 64-bit",
   "language": "python",
   "name": "python3"
  },
  "language_info": {
   "codemirror_mode": {
    "name": "ipython",
    "version": 3
   },
   "file_extension": ".py",
   "mimetype": "text/x-python",
   "name": "python",
   "nbconvert_exporter": "python",
   "pygments_lexer": "ipython3",
   "version": "3.10.6"
  },
  "orig_nbformat": 4,
  "vscode": {
   "interpreter": {
    "hash": "aee8b7b246df8f9039afb4144a1f6fd8d2ca17a180786b69acc140d282b71a49"
   }
  }
 },
 "nbformat": 4,
 "nbformat_minor": 2
}
